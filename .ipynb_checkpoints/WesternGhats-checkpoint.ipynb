{
 "cells": [
  {
   "cell_type": "code",
   "execution_count": 87,
   "id": "ef63b65b-5cd2-4b66-96bf-f5d4b49f7428",
   "metadata": {},
   "outputs": [],
   "source": [
    "import numpy as np\n"
   ]
  },
  {
   "cell_type": "code",
   "execution_count": 88,
   "id": "26ae8a9a-7493-4c02-9369-c3c2737cda3f",
   "metadata": {},
   "outputs": [],
   "source": [
    "RI = np.array([0,0,0.58,0.90,1.12,1.24,1.32,1.41,1.45,1.49])\n",
    "\n",
    "mainarr = np.array([[1 , 5  ,4   ,7],\n",
    "                   [1/5, 1  ,1/2 ,3],\n",
    "                   [1/4, 2  ,1   ,3],\n",
    "                   [1/7, 1/3,1/3 ,1]])\n",
    "\n",
    "n = mainarr[0].size"
   ]
  },
  {
   "cell_type": "code",
   "execution_count": 89,
   "id": "3db7b840-a47b-47c1-ac67-0770000bbbe0",
   "metadata": {},
   "outputs": [],
   "source": [
    "float_formatter = \"{:.4f}\".format\n",
    "np.set_printoptions(formatter={'float_kind':float_formatter})"
   ]
  },
  {
   "cell_type": "code",
   "execution_count": 90,
   "id": "5acda6ef-aebd-468c-a130-fa1c541eda60",
   "metadata": {},
   "outputs": [
    {
     "name": "stdout",
     "output_type": "stream",
     "text": [
      "[1.5929 8.3333 5.8333 14.0000]\n"
     ]
    }
   ],
   "source": [
    "colsum = mainarr.sum(axis=0)\n",
    "print(colsum)"
   ]
  },
  {
   "cell_type": "code",
   "execution_count": 92,
   "id": "426f5dc8-b67e-4d00-b08a-261858fc7d57",
   "metadata": {},
   "outputs": [
    {
     "name": "stdout",
     "output_type": "stream",
     "text": [
      "[[0.6278 0.6000 0.6857 0.5000]\n",
      " [0.1256 0.1200 0.0857 0.2143]\n",
      " [0.1570 0.2400 0.1714 0.2143]\n",
      " [0.0897 0.0400 0.0571 0.0714]]\n"
     ]
    }
   ],
   "source": [
    "i=0\n",
    "normalizedform = np.array(mainarr)\n",
    "for p in mainarr:\n",
    "    normalizedform[i] = np.divide(mainarr[i] , colsum)\n",
    "    i+=1\n",
    "    \n",
    "print(normalizedform)\n",
    "\n"
   ]
  },
  {
   "cell_type": "code",
   "execution_count": 94,
   "id": "25a422f8-0aa2-4602-810b-ef01bc914373",
   "metadata": {},
   "outputs": [
    {
     "name": "stdout",
     "output_type": "stream",
     "text": [
      "[0.6034 0.1364 0.1957 0.0646]\n"
     ]
    }
   ],
   "source": [
    "criteriaweights = normalizedform.sum(axis=1)/n\n",
    "print(criteriaweights)"
   ]
  },
  {
   "cell_type": "code",
   "execution_count": 96,
   "id": "c56d1251-7a35-488d-adc9-ead1f814e307",
   "metadata": {},
   "outputs": [
    {
     "name": "stdout",
     "output_type": "stream",
     "text": [
      "[[0.6034 0.6820 0.7827 0.4520]\n",
      " [0.1207 0.1364 0.0978 0.1937]\n",
      " [0.1508 0.2728 0.1957 0.1937]\n",
      " [0.0862 0.0455 0.0652 0.0646]]\n"
     ]
    }
   ],
   "source": [
    "#data consistency checling started\n",
    "\n",
    "i=0\n",
    "c1 = np.array(mainarr)\n",
    "for p in mainarr:\n",
    "    c1[i] = np.multiply(mainarr[i] , criteriaweights)\n",
    "    i=i+1\n",
    "\n",
    "print(c1)\n",
    "\n"
   ]
  },
  {
   "cell_type": "code",
   "execution_count": 98,
   "id": "15fea487-1979-4356-a199-23d2a40e4a98",
   "metadata": {},
   "outputs": [
    {
     "name": "stdout",
     "output_type": "stream",
     "text": [
      "[4.1764 4.0222 4.1550 4.0494]\n"
     ]
    }
   ],
   "source": [
    "weightedsum = c1.sum(axis=1)\n",
    "\n",
    "#weightedsum upon criteria weight\n",
    "naipata = np.divide(weightedsum,criteriaweights)\n",
    "print(naipata)"
   ]
  },
  {
   "cell_type": "code",
   "execution_count": 99,
   "id": "5e814a3c-3ef9-46dd-9d37-47ebc39d3847",
   "metadata": {},
   "outputs": [
    {
     "name": "stdout",
     "output_type": "stream",
     "text": [
      "4.1007\n"
     ]
    }
   ],
   "source": [
    "lamda = naipata.sum(axis=0)/n\n",
    "\n",
    "lamda=round(lamda, 4) \n",
    "print(lamda)"
   ]
  },
  {
   "cell_type": "code",
   "execution_count": 100,
   "id": "92a0016b-ce84-4f3c-85f3-810ccde0c45a",
   "metadata": {},
   "outputs": [
    {
     "name": "stdout",
     "output_type": "stream",
     "text": [
      "0.03357\n"
     ]
    }
   ],
   "source": [
    "#now we find consistency index CI\n",
    "\n",
    "CI = (lamda-n)/(n-1)\n",
    "CI = round(CI,5)\n",
    "print(CI)\n"
   ]
  },
  {
   "cell_type": "code",
   "execution_count": 113,
   "id": "17742e22-393e-4062-a93b-666f5faf3601",
   "metadata": {},
   "outputs": [
    {
     "name": "stdout",
     "output_type": "stream",
     "text": [
      "0.0373\n"
     ]
    }
   ],
   "source": [
    "#cr is consistency ratio = consistency index upon random index\n",
    "CR = CI / RI[n-1]\n",
    "\n",
    "print(CR)\n"
   ]
  },
  {
   "cell_type": "code",
   "execution_count": 114,
   "id": "9b876a1a-1d88-4b52-9fb8-cb45a917d878",
   "metadata": {},
   "outputs": [
    {
     "name": "stdout",
     "output_type": "stream",
     "text": [
      "VALUES ARE CONSISTENT - go ahead\n"
     ]
    }
   ],
   "source": [
    "if(CR<0.10):\n",
    "    print(\"VALUES ARE CONSISTENT - go ahead\")\n",
    "else:\n",
    "    print(\"criteria weights are not consistent reEnter the values\")\n",
    "    "
   ]
  },
  {
   "cell_type": "code",
   "execution_count": 104,
   "id": "e0deaaef-63c3-4dbc-8baf-fe9997d956e5",
   "metadata": {},
   "outputs": [],
   "source": [
    "#function made\n",
    "\n",
    "def bene(arr) :\n",
    "    max1 = np.max(arr[1])\n",
    "    max2 = np.max(arr[2])\n",
    "    max3 = np.max(arr[3])\n",
    "\n",
    "    ite=0\n",
    "    for i in arr[1] :\n",
    "        arr[1][ite]=i/max1\n",
    "        ite+=1\n",
    "    ite=0\n",
    "    for i in arr[2] :\n",
    "        arr[2][ite]=i/max2\n",
    "        ite+=1\n",
    "    \n",
    "    ite=0\n",
    "    for i in arr[3] :\n",
    "        arr[3][ite]=i/max3\n",
    "        ite+=1\n",
    "        \n",
    "    #non beneficial min/i\n",
    "    ite=0\n",
    "    min1 = np.min(arr[0])\n",
    "    for i in arr[0] :\n",
    "        arr[0][ite]=min1/i\n",
    "        ite=ite+1\n"
   ]
  },
  {
   "cell_type": "code",
   "execution_count": 115,
   "id": "4ed281b5-c638-4ff0-8a23-868d44b186ab",
   "metadata": {},
   "outputs": [
    {
     "name": "stdout",
     "output_type": "stream",
     "text": [
      "\n",
      "\n",
      "[[0.8000 0.5000 0.7500 1.0000]\n",
      " [1.0000 0.5000 0.5000 0.6000]\n",
      " [0.6667 1.0000 1.0000 0.8000]\n",
      " [0.7273 1.0000 0.5000 0.8000]\n",
      " [0.8889 0.5000 1.0000 0.4000]]\n"
     ]
    }
   ],
   "source": [
    "#Tla transpose list array   ctla copy of tla\n",
    "listarray = np.array([[250,16,12,5],[200,16,8,3],[300,32,16,4],[275,32,8,4],[225,16,16,2]])\n",
    "print(\"\\n\")\n",
    "Tla = listarray.T\n",
    "Tla = Tla.astype('float64') \n",
    "\n",
    "\n",
    "# function called\n",
    "bene(Tla)\n",
    "Tla = Tla.T\n",
    "print(Tla)\n",
    "\n"
   ]
  },
  {
   "cell_type": "code",
   "execution_count": 120,
   "id": "eae0fe8d-8d7b-45a8-b8f5-fb1de9d4a6f6",
   "metadata": {},
   "outputs": [
    {
     "name": "stdout",
     "output_type": "stream",
     "text": [
      "[[0.4827 0.0682 0.1467 0.0646]\n",
      " [0.6034 0.0682 0.0978 0.0387]\n",
      " [0.4023 0.1364 0.1957 0.0517]\n",
      " [0.4388 0.1364 0.0978 0.0517]\n",
      " [0.5363 0.0682 0.1957 0.0258]]\n"
     ]
    }
   ],
   "source": [
    "cw = 0\n",
    "for i in Tla:\n",
    "    Tla[cw] = np.multiply(Tla[cw],criteriaweights)\n",
    "    cw+=1\n",
    "print(Tla)\n"
   ]
  },
  {
   "cell_type": "code",
   "execution_count": 125,
   "id": "043defb8-5dbe-4b0c-b31f-726eb8525a45",
   "metadata": {},
   "outputs": [],
   "source": [
    "#weighted normalized decision matrix\n",
    "\n",
    "# out_arr = np.multiply(in_arr1, in_arr2) ye galat hai for what i am doin     \n",
    "\n",
    "# out_arr=np.array(in_arr1)*np.array(in_arr2) this is right\n",
    "\n",
    "# wndm = np.array(Tla)*np.array(cw)\n",
    "# print(wndm)\n",
    "#now this is according to the other video example\n"
   ]
  },
  {
   "cell_type": "code",
   "execution_count": 121,
   "id": "cc5c4f4f-5146-473d-8a4c-4aeced07af77",
   "metadata": {},
   "outputs": [
    {
     "name": "stdout",
     "output_type": "stream",
     "text": [
      "[0.7622 0.8081 0.7860 0.7247 0.8260]\n"
     ]
    }
   ],
   "source": [
    "perfscore = Tla.sum(axis=1)\n",
    "print (perfscore)"
   ]
  },
  {
   "cell_type": "code",
   "execution_count": 122,
   "id": "7af7a24a-7e77-4268-820e-d391b777df28",
   "metadata": {},
   "outputs": [
    {
     "name": "stdout",
     "output_type": "stream",
     "text": [
      "[4.0000 2.0000 3.0000 5.0000 1.0000]\n"
     ]
    }
   ],
   "source": [
    "rankArr = np.array(perfscore)\n",
    "ranks = perfscore.size\n",
    "for score in rankArr :\n",
    "    rankArr[rankArr.argmin()]=ranks\n",
    "    ranks-=1\n",
    "print(rankArr)"
   ]
  },
  {
   "cell_type": "code",
   "execution_count": 123,
   "id": "d46ffcd7-27d7-4987-85c3-207517baa90e",
   "metadata": {},
   "outputs": [
    {
     "name": "stdout",
     "output_type": "stream",
     "text": [
      "[[250.0000 16.0000 12.0000 5.0000 4.0000]\n",
      " [200.0000 16.0000 8.0000 3.0000 2.0000]\n",
      " [300.0000 32.0000 16.0000 4.0000 3.0000]\n",
      " [275.0000 32.0000 8.0000 4.0000 5.0000]\n",
      " [225.0000 16.0000 16.0000 2.0000 1.0000]]\n"
     ]
    }
   ],
   "source": [
    "finalarr = np.column_stack([listarray,rankArr])\n",
    "print(finalarr)"
   ]
  },
  {
   "cell_type": "code",
   "execution_count": 124,
   "id": "ddd06e34-de9c-42f5-a63d-413534d55e5b",
   "metadata": {},
   "outputs": [
    {
     "name": "stdout",
     "output_type": "stream",
     "text": [
      "[[225.0000 16.0000 16.0000 2.0000 1.0000]\n",
      " [200.0000 16.0000 8.0000 3.0000 2.0000]\n",
      " [300.0000 32.0000 16.0000 4.0000 3.0000]\n",
      " [250.0000 16.0000 12.0000 5.0000 4.0000]\n",
      " [275.0000 32.0000 8.0000 4.0000 5.0000]]\n"
     ]
    }
   ],
   "source": [
    "finalarr = finalarr[finalarr[:,finalarr[0].size-1].argsort()]\n",
    "print(finalarr)"
   ]
  }
 ],
 "metadata": {
  "kernelspec": {
   "display_name": "Python 3 (ipykernel)",
   "language": "python",
   "name": "python3"
  },
  "language_info": {
   "codemirror_mode": {
    "name": "ipython",
    "version": 3
   },
   "file_extension": ".py",
   "mimetype": "text/x-python",
   "name": "python",
   "nbconvert_exporter": "python",
   "pygments_lexer": "ipython3",
   "version": "3.12.4"
  }
 },
 "nbformat": 4,
 "nbformat_minor": 5
}
