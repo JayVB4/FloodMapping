{
 "cells": [
  {
   "cell_type": "code",
   "execution_count": 150,
   "id": "8d2ef12b-a7f7-4111-9c85-4cfb0ebc4e62",
   "metadata": {},
   "outputs": [],
   "source": [
    "import numpy as np\n",
    "import pandas as pd\n",
    "RI = np.array([0,0,0.58,0.90,1.12,1.24,1.32,1.41,1.45,1.49,1.51,1.48,1.56,1.57,1.58])"
   ]
  },
  {
   "cell_type": "code",
   "execution_count": 151,
   "id": "c9592506-6f6c-4805-880e-841bca341528",
   "metadata": {},
   "outputs": [],
   "source": [
    "df =pd.read_csv(\"WesternGhatData/1Elevation.csv\")\n",
    "elevation= df.to_numpy()\n",
    "\n",
    "df =pd.read_csv(\"WesternGhatData/2Slope.csv\")\n",
    "slope= df.to_numpy()\n",
    "\n",
    "df =pd.read_csv(\"WesternGhatData/3DistancefromRiver.csv\")\n",
    "river= df.to_numpy()\n",
    "\n",
    "df =pd.read_csv(\"WesternGhatData/4Drainage.csv\")\n",
    "drainage= df.to_numpy()\n",
    "\n",
    "df =pd.read_csv(\"WesternGhatData/5FlowAccumulation.csv\")\n",
    "flow= df.to_numpy()\n",
    "\n",
    "df =pd.read_csv(\"WesternGhatData/6TWI.csv\")\n",
    "twi= df.to_numpy()\n",
    "\n",
    "df =pd.read_csv(\"WesternGhatData/7Rainfall.csv\")\n",
    "rainfall= df.to_numpy()\n",
    "\n",
    "df =pd.read_csv(\"WesternGhatData/8Landuse.csv\")\n",
    "landuse= df.to_numpy()\n",
    "\n",
    "df =pd.read_csv(\"WesternGhatData/9SoilTexture.csv\")\n",
    "soil= df.to_numpy()\n",
    "\n",
    "df =pd.read_csv(\"WesternGhatData/10TRI.csv\")\n",
    "tri= df.to_numpy()\n",
    "\n",
    "df =pd.read_csv(\"WesternGhatData/11Geology.csv\")\n",
    "geology= df.to_numpy()\n",
    "\n"
   ]
  },
  {
   "cell_type": "code",
   "execution_count": 152,
   "id": "c51e04d5-68bb-45e6-a63a-bc33c6f3284b",
   "metadata": {},
   "outputs": [],
   "source": [
    "data = np.array([[1   ,2   ,2   ,3   ,4   ,5   ,5   ,6   ,7   ,8   ,8],\n",
    "                   [1/2 ,1   ,2   ,3   ,3   ,4   ,5   ,6   ,7   ,8   ,8],\n",
    "                   [1/2 ,1/2 ,1   ,2   ,3   ,4   ,4   ,5   ,6   ,7   ,7],\n",
    "                   [1/3 ,1/3 ,1/2 ,1   ,2   ,3   ,3   ,4   ,5   ,7   ,8],\n",
    "                   [1/4 ,1/3 ,1/3 ,1/2 ,1   ,2   ,2   ,3   ,4   ,5   ,6],\n",
    "                   [1/5 ,1/4 ,1/4 ,1/3 ,1/2 ,1   ,2   ,4   ,5   ,7   ,7],\n",
    "                   [1/5 ,1/5 ,1/4 ,1/3 ,1/2 ,1/2 ,1   ,2   ,3   ,5   ,6],\n",
    "                   [1/6 ,1/6 ,1/5 ,1/4 ,1/3 ,1/4 ,1/2 ,1   ,2   ,4   ,5],\n",
    "                   [1/7 ,1/7 ,1/6 ,1/5 ,1/4 ,1/5 ,1/3 ,1/2 ,1   ,3   ,4],\n",
    "                   [1/8 ,1/8 ,1/7 ,1/7 ,1/5 ,1/7 ,1/5 ,1/4 ,1/3 ,1   ,3],\n",
    "                   [1/8 ,1/8 ,1/7 ,1/8 ,1/6 ,1/7 ,1/6 ,1/5 ,1/4 ,1/3 ,1]]\n",
    "                  )\n",
    "data1 = np.array([[1, 3 , 1/2],\n",
    "                 [1/3 , 1,3 ],\n",
    "                 [2  , 1/3 , 1]])\n",
    "\n",
    "n = data[0].size\n",
    "\n",
    "float_formatter = \"{:.3f}\".format\n",
    "np.set_printoptions(formatter={'float_kind':float_formatter})"
   ]
  },
  {
   "cell_type": "code",
   "execution_count": 153,
   "id": "b580b999-355c-49c4-bf6f-23c7321f706d",
   "metadata": {},
   "outputs": [],
   "source": [
    "#converts normal into fuzzyarray\n",
    "def fuzzify(data):\n",
    "    n = data[0].size\n",
    "    mainarr = np.full((n,n,3),0,dtype=float)\n",
    "    for i in range(0,n):\n",
    "        for j in range(0,n):\n",
    "            if (data[i][j]>=1):\n",
    "                mainarr[i][j][0]= data[i][j] if(data[i][j]==1 or data[i][j]==9) else data[i][j]-1\n",
    "                mainarr[i][j][2]= data[i][j] if(data[i][j]==1 or data[i][j]==9) else data[i][j]+1\n",
    "            else:\n",
    "                for k in range(2,10):\n",
    "                    if (1/k==data[i][j]):\n",
    "                        mainarr[i][j][0]= data[i][j] if(data[i][j]==9) else 1/(k+1)\n",
    "                        mainarr[i][j][2]= data[i][j] if(data[i][j]==9) else 1/(k-1)\n",
    "            mainarr[i][j][1]= data[i][j]\n",
    "    return mainarr"
   ]
  },
  {
   "cell_type": "code",
   "execution_count": 174,
   "id": "30d20796-2962-4d82-9724-232e6895962f",
   "metadata": {},
   "outputs": [],
   "source": [
    "def nonFuzzyWeight(data) :\n",
    "    V =np.full((n,n),0,dtype=float)\n",
    "    fuzzyWeight=np.full((n,3),0,dtype=float)\n",
    "    # geoMean = mainarr.sum(axis=1)\n",
    "    for i in range(0,n):\n",
    "        fuzzyWeight[i] = np.multiply( mainarr.sum(axis=1)[i] , np.reciprocal(np.flip(geoMean.sum(axis=0),0)))\n",
    "    for i in range(0,n):\n",
    "        arr1 = fuzzyWeight[i]\n",
    "        for j in range(0,n):\n",
    "            arr2=fuzzyWeight[j]\n",
    "            if(i==j):\n",
    "                V[i][j]=2\n",
    "            elif arr1[1]>=arr2[1]:\n",
    "                V[i][j]=1\n",
    "            elif arr2[0]>=arr1[2]:\n",
    "                V[i][j]=0\n",
    "            else:\n",
    "                V[i][j]=(arr2[0]-arr1[2])/((arr1[1]-arr1[2])-(arr2[1]-arr2[0]))\n",
    "    return np.divide(V.min(axis=1),V.min(axis=1).sum(axis=0))\n",
    "\n",
    "\n"
   ]
  },
  {
   "cell_type": "code",
   "execution_count": null,
   "id": "62b66a52-1f98-4c07-975e-4f834ab3879a",
   "metadata": {},
   "outputs": [],
   "source": []
  },
  {
   "cell_type": "code",
   "execution_count": null,
   "id": "086877a3-280b-4cbd-ac87-96950fb082f5",
   "metadata": {},
   "outputs": [],
   "source": []
  },
  {
   "cell_type": "code",
   "execution_count": null,
   "id": "a718e4c0-8035-4a50-aa0a-6a0ccf85e325",
   "metadata": {},
   "outputs": [],
   "source": []
  },
  {
   "cell_type": "code",
   "execution_count": null,
   "id": "c8003654-f3b3-43a9-b5d3-9db09bf31881",
   "metadata": {},
   "outputs": [],
   "source": []
  },
  {
   "cell_type": "code",
   "execution_count": null,
   "id": "d154d90e-2620-4e58-a408-215753686f5b",
   "metadata": {},
   "outputs": [],
   "source": []
  },
  {
   "cell_type": "code",
   "execution_count": null,
   "id": "0935493a-64d2-4cd7-8865-d0cd87ce4020",
   "metadata": {},
   "outputs": [],
   "source": []
  },
  {
   "cell_type": "code",
   "execution_count": 173,
   "id": "43670c66-1dd5-413b-9e31-a2cf09052db6",
   "metadata": {},
   "outputs": [
    {
     "data": {
      "text/plain": [
       "array([0.273, 0.251, 0.198, 0.148, 0.053, 0.076, 0.000, 0.000, 0.000,\n",
       "       0.000, 0.000])"
      ]
     },
     "execution_count": 173,
     "metadata": {},
     "output_type": "execute_result"
    }
   ],
   "source": [
    "nonFuzzyWeight(fuzzify(data))"
   ]
  },
  {
   "cell_type": "code",
   "execution_count": null,
   "id": "41dfbaba-8e1c-479b-939b-7743ffd71241",
   "metadata": {},
   "outputs": [],
   "source": []
  }
 ],
 "metadata": {
  "kernelspec": {
   "display_name": "Python 3 (ipykernel)",
   "language": "python",
   "name": "python3"
  },
  "language_info": {
   "codemirror_mode": {
    "name": "ipython",
    "version": 3
   },
   "file_extension": ".py",
   "mimetype": "text/x-python",
   "name": "python",
   "nbconvert_exporter": "python",
   "pygments_lexer": "ipython3",
   "version": "3.12.4"
  }
 },
 "nbformat": 4,
 "nbformat_minor": 5
}
