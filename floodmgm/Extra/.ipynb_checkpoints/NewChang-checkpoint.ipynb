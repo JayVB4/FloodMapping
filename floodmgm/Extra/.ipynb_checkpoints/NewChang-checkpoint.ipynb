{
 "cells": [
  {
   "cell_type": "code",
   "execution_count": 44,
   "id": "a07295aa-5601-438f-8fd2-5e38db04106b",
   "metadata": {},
   "outputs": [],
   "source": [
    "def sivalue(mainarr):\n",
    "    \n",
    "    sival=np.full((n,3),0,dtype=float)\n",
    "    for i in range(0,n):\n",
    "        sival[i] = np.multiply((mainarr.sum(axis=1))[i] , np.reciprocal(np.flip((mainarr.sum(axis=1)).sum(axis=0),0)))\n",
    "        V =np.full((n,n),0,dtype=float)\n",
    "    # arr=fuzzyWeight.copy() \n",
    "\n",
    "    for i in range(0,n):\n",
    "        arr1 = sival[i]\n",
    "        for j in range(0,n):\n",
    "            arr2=sival[j]\n",
    "            if(i==j):\n",
    "                V[i][j]=2\n",
    "            elif arr1[1]>=arr2[1]:\n",
    "                V[i][j]=1\n",
    "            elif arr2[0]>=arr1[2]:\n",
    "                V[i][j]=0\n",
    "            else:\n",
    "                V[i][j]=(arr2[0]-arr1[2])/((arr1[1]-arr1[2])-(arr2[1]-arr2[0]))\n",
    "    nonfuzzyweight= np.divide(V.min(axis=1),V.min(axis=1).sum(axis=0))\n",
    "    return nonfuzzyweight\n"
   ]
  },
  {
   "cell_type": "code",
   "execution_count": 45,
   "id": "a5b4f909-41c6-4271-bd59-6ff99812a044",
   "metadata": {},
   "outputs": [],
   "source": [
    "def consistency(mainarr):\n",
    "    n = int(mainarr[0].size)\n",
    "    c1 = np.array(mainarr)\n",
    "    \n",
    "    for i in range(0,n):\n",
    "        c1[i] = np.multiply(mainarr[i],fuzzify(mainarr))\n",
    "    lamda = (np.divide(c1.sum(axis=1),fuzzify(mainarr)).sum(axis=0))/n\n",
    "    ci = (lamda-n)/(n-1)\n",
    "    CR = ci / RI[n-1]\n",
    "\n",
    "    if(CR<0.1 ):\n",
    "        print(\"CR: \",CR,\" VALUES ARE CONSISTENT - go ahead\")\n",
    "        print(\"cwAHP\",fuzzify(data))\n",
    "    else:\n",
    "        print(\"CR: \",CR,\"criteria weights are not consistent reEnter the values\")"
   ]
  },
  {
   "cell_type": "code",
   "execution_count": 46,
   "id": "f213483c-7b6c-419c-ab5b-3417a76cd800",
   "metadata": {},
   "outputs": [],
   "source": [
    "def fuzzify(data):\n",
    "    n = data[0].size\n",
    "    mainarr = np.full((n,n,3),0,dtype=float)\n",
    "    for i in range(0,n):\n",
    "        for j in range(0,n):\n",
    "            if (data[i][j]>=1):\n",
    "                mainarr[i][j][0]= data[i][j] if(data[i][j]==1 or data[i][j]==9) else data[i][j]-1\n",
    "                mainarr[i][j][2]= data[i][j] if(data[i][j]==1 or data[i][j]==9) else data[i][j]+1\n",
    "            else:\n",
    "                for k in range(2,10):\n",
    "                    if (1/k==data[i][j]):\n",
    "                        mainarr[i][j][0]= data[i][j] if(data[i][j]==9) else 1/(k+1)\n",
    "                        mainarr[i][j][2]= data[i][j] if(data[i][j]==9) else 1/(k-1)\n",
    "            mainarr[i][j][1]= data[i][j]\n",
    "    \n",
    "    return sivalue(mainarr)\n",
    "    \n",
    "    "
   ]
  },
  {
   "cell_type": "code",
   "execution_count": 47,
   "id": "40951342-b15c-4449-a05e-a1420b3f7645",
   "metadata": {},
   "outputs": [],
   "source": [
    "import numpy as np\n",
    "import pandas as pd\n",
    "RI = np.array([0,0,0.58,0.90,1.12,1.24,1.32,1.41,1.45,1.49,1.51,1.48,1.56,1.57,1.58])\n",
    "\n",
    "\n",
    "data = np.array([[1   ,2   ,2   ,3   ,4   ,5   ,5   ,6   ,7   ,8   ,8],\n",
    "                   [1/2 ,1   ,2   ,3   ,3   ,4   ,5   ,6   ,7   ,8   ,8],\n",
    "                   [1/2 ,1/2 ,1   ,2   ,3   ,4   ,4   ,5   ,6   ,7   ,7],\n",
    "                   [1/3 ,1/3 ,1/2 ,1   ,2   ,3   ,3   ,4   ,5   ,7   ,8],\n",
    "                   [1/4 ,1/3 ,1/3 ,1/2 ,1   ,2   ,2   ,3   ,4   ,5   ,6],\n",
    "                   [1/5 ,1/4 ,1/4 ,1/3 ,1/2 ,1   ,2   ,4   ,5   ,7   ,7],\n",
    "                   [1/5 ,1/5 ,1/4 ,1/3 ,1/2 ,1/2 ,1   ,2   ,3   ,5   ,6],\n",
    "                   [1/6 ,1/6 ,1/5 ,1/4 ,1/3 ,1/4 ,1/2 ,1   ,2   ,4   ,5],\n",
    "                   [1/7 ,1/7 ,1/6 ,1/5 ,1/4 ,1/5 ,1/3 ,1/2 ,1   ,3   ,4],\n",
    "                   [1/8 ,1/8 ,1/7 ,1/7 ,1/5 ,1/7 ,1/5 ,1/4 ,1/3 ,1   ,3],\n",
    "                   [1/8 ,1/8 ,1/7 ,1/8 ,1/6 ,1/7 ,1/6 ,1/5 ,1/4 ,1/3 ,1]]\n",
    "                  )\n",
    "n = data[0].size\n",
    "\n",
    "float_formatter = \"{:.3f}\".format\n",
    "np.set_printoptions(formatter={'float_kind':float_formatter})\n",
    "\n"
   ]
  },
  {
   "cell_type": "code",
   "execution_count": 48,
   "id": "2ea7bcc4-829d-4487-97bf-7ccb31d1ea6d",
   "metadata": {
    "scrolled": true
   },
   "outputs": [
    {
     "name": "stdout",
     "output_type": "stream",
     "text": [
      "[nan nan nan nan nan nan nan nan nan nan nan]\n",
      "CR:  nan criteria weights are not consistent reEnter the values\n"
     ]
    },
    {
     "name": "stderr",
     "output_type": "stream",
     "text": [
      "C:\\Users\\jay\\AppData\\Local\\Temp\\ipykernel_7420\\4119401851.py:24: RuntimeWarning: invalid value encountered in divide\n",
      "  nonfuzzyweight= np.divide(V.min(axis=1),V.min(axis=1).sum(axis=0))\n"
     ]
    }
   ],
   "source": [
    "nonFuzzyWeights=fuzzify(data)\n",
    "print(nonFuzzyWeights)\n",
    "consistency(data)"
   ]
  },
  {
   "cell_type": "code",
   "execution_count": null,
   "id": "c52d3672-ecf6-48bc-a39b-f7e55be351e9",
   "metadata": {},
   "outputs": [],
   "source": []
  }
 ],
 "metadata": {
  "kernelspec": {
   "display_name": "Python 3 (ipykernel)",
   "language": "python",
   "name": "python3"
  },
  "language_info": {
   "codemirror_mode": {
    "name": "ipython",
    "version": 3
   },
   "file_extension": ".py",
   "mimetype": "text/x-python",
   "name": "python",
   "nbconvert_exporter": "python",
   "pygments_lexer": "ipython3",
   "version": "3.12.4"
  }
 },
 "nbformat": 4,
 "nbformat_minor": 5
}
