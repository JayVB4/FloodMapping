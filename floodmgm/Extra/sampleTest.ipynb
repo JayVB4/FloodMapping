{
 "cells": [
  {
   "cell_type": "code",
   "execution_count": 1,
   "metadata": {},
   "outputs": [
    {
     "name": "stdout",
     "output_type": "stream",
     "text": [
      "Criterion: Cost, Weight: 0.25828499437449487\n",
      "Criterion: Quality, Weight: 0.6369855717447572\n",
      "Criterion: Time, Weight: 0.10472943388074787\n"
     ]
    },
    {
     "ename": "TypeError",
     "evalue": "'NoneType' object is not iterable",
     "output_type": "error",
     "traceback": [
      "\u001b[1;31m---------------------------------------------------------------------------\u001b[0m",
      "\u001b[1;31mTypeError\u001b[0m                                 Traceback (most recent call last)",
      "Cell \u001b[1;32mIn[1], line 56\u001b[0m\n\u001b[0;32m     49\u001b[0m fuzzy_sets \u001b[38;5;241m=\u001b[39m {\n\u001b[0;32m     50\u001b[0m     \u001b[38;5;124m'\u001b[39m\u001b[38;5;124mCost\u001b[39m\u001b[38;5;124m'\u001b[39m: (\u001b[38;5;241m1\u001b[39m, \u001b[38;5;241m3\u001b[39m, \u001b[38;5;241m5\u001b[39m),\n\u001b[0;32m     51\u001b[0m     \u001b[38;5;124m'\u001b[39m\u001b[38;5;124mQuality\u001b[39m\u001b[38;5;124m'\u001b[39m: (\u001b[38;5;241m2\u001b[39m, \u001b[38;5;241m4\u001b[39m, \u001b[38;5;241m6\u001b[39m),\n\u001b[0;32m     52\u001b[0m     \u001b[38;5;124m'\u001b[39m\u001b[38;5;124mTime\u001b[39m\u001b[38;5;124m'\u001b[39m: (\u001b[38;5;241m1\u001b[39m, \u001b[38;5;241m2\u001b[39m, \u001b[38;5;241m3\u001b[39m)\n\u001b[0;32m     53\u001b[0m }\n\u001b[0;32m     54\u001b[0m pairwise_matrix \u001b[38;5;241m=\u001b[39m np\u001b[38;5;241m.\u001b[39marray([[triangular_fuzzy(x, \u001b[38;5;241m*\u001b[39mfuzzy_sets[\u001b[38;5;124m'\u001b[39m\u001b[38;5;124mCost\u001b[39m\u001b[38;5;124m'\u001b[39m]) \u001b[38;5;28;01mfor\u001b[39;00m x \u001b[38;5;129;01min\u001b[39;00m \u001b[38;5;28mrange\u001b[39m(\u001b[38;5;241m3\u001b[39m)] \u001b[38;5;28;01mfor\u001b[39;00m _ \u001b[38;5;129;01min\u001b[39;00m \u001b[38;5;28mrange\u001b[39m(\u001b[38;5;241m3\u001b[39m)])\n\u001b[1;32m---> 56\u001b[0m \u001b[43mfuzzy_ahp\u001b[49m\u001b[43m(\u001b[49m\u001b[43mcriteria\u001b[49m\u001b[43m,\u001b[49m\u001b[43m \u001b[49m\u001b[43mpairwise_matrix\u001b[49m\u001b[43m,\u001b[49m\u001b[43m \u001b[49m\u001b[43mfuzzy_sets\u001b[49m\u001b[43m)\u001b[49m\n",
      "Cell \u001b[1;32mIn[1], line 44\u001b[0m, in \u001b[0;36mfuzzy_ahp\u001b[1;34m(criteria_names, pairwise_matrix, fuzzy_sets)\u001b[0m\n\u001b[0;32m     42\u001b[0m \u001b[38;5;28;01mdef\u001b[39;00m \u001b[38;5;21mfuzzy_ahp\u001b[39m(criteria_names, pairwise_matrix, fuzzy_sets):\n\u001b[0;32m     43\u001b[0m     fuzzy_weights \u001b[38;5;241m=\u001b[39m calculate_fuzzy_weights(pairwise_matrix)\n\u001b[1;32m---> 44\u001b[0m     \u001b[38;5;28;01mfor\u001b[39;00m name, weight \u001b[38;5;129;01min\u001b[39;00m \u001b[38;5;28;43mzip\u001b[39;49m\u001b[43m(\u001b[49m\u001b[43mcriteria_names\u001b[49m\u001b[43m,\u001b[49m\u001b[43m \u001b[49m\u001b[43mfuzzy_weights\u001b[49m\u001b[43m)\u001b[49m:\n\u001b[0;32m     45\u001b[0m         \u001b[38;5;28mprint\u001b[39m(\u001b[38;5;124mf\u001b[39m\u001b[38;5;124m'\u001b[39m\u001b[38;5;124mCriterion: \u001b[39m\u001b[38;5;132;01m{\u001b[39;00mname\u001b[38;5;132;01m}\u001b[39;00m\u001b[38;5;124m, Fuzzy Weight: \u001b[39m\u001b[38;5;132;01m{\u001b[39;00mweight\u001b[38;5;132;01m}\u001b[39;00m\u001b[38;5;124m'\u001b[39m)\n",
      "\u001b[1;31mTypeError\u001b[0m: 'NoneType' object is not iterable"
     ]
    }
   ],
   "source": [
    "import numpy as np\n",
    "\n",
    "# Function to calculate weights using eigenvalue method\n",
    "def calculate_weights(matrix):\n",
    "    eigenvalues, eigenvectors = np.linalg.eig(matrix)\n",
    "    max_index = np.argmax(eigenvalues)\n",
    "    weights = eigenvectors[:, max_index].real\n",
    "    weights = weights / weights.sum()\n",
    "    return weights\n",
    "\n",
    "# Function to perform AHP\n",
    "def ahp(criteria_names, pairwise_matrix):\n",
    "    weights = calculate_weights(pairwise_matrix)\n",
    "    for name, weight in zip(criteria_names, weights):\n",
    "        print(f'Criterion: {name}, Weight: {weight}')\n",
    "\n",
    "# Example usage for AHP\n",
    "criteria = ['Cost', 'Quality', 'Time']\n",
    "pairwise_matrix = np.array([[1, 1/3, 3],\n",
    "                            [3, 1, 5],\n",
    "                            [1/3, 1/5, 1]])\n",
    "\n",
    "ahp(criteria, pairwise_matrix)\n",
    "\n",
    "# Function to define a triangular fuzzy membership function\n",
    "def triangular_fuzzy(x, a, m, b):\n",
    "    if x < a or x > b:\n",
    "        return 0\n",
    "    elif x == m:\n",
    "        return 1\n",
    "    elif x < m:\n",
    "        return (x - a) / (m - a)\n",
    "    else:\n",
    "        return (b - x) / (b - m)\n",
    "\n",
    "# Function to calculate fuzzy weights\n",
    "def calculate_fuzzy_weights(matrix):\n",
    "    # Implementation adapted for fuzzy logic\n",
    "    pass  # Placeholder for fuzzy weights calculation\n",
    "\n",
    "# Function to perform fuzzy AHP\n",
    "def fuzzy_ahp(criteria_names, pairwise_matrix, fuzzy_sets):\n",
    "    fuzzy_weights = calculate_fuzzy_weights(pairwise_matrix)\n",
    "    for name, weight in zip(criteria_names, fuzzy_weights):\n",
    "        print(f'Criterion: {name}, Fuzzy Weight: {weight}')\n",
    "\n",
    "# Example usage for Fuzzy AHP\n",
    "criteria = ['Cost', 'Quality', 'Time']\n",
    "fuzzy_sets = {\n",
    "    'Cost': (1, 3, 5),\n",
    "    'Quality': (2, 4, 6),\n",
    "    'Time': (1, 2, 3)\n",
    "}\n",
    "pairwise_matrix = np.array([[triangular_fuzzy(x, *fuzzy_sets['Cost']) for x in range(3)] for _ in range(3)])\n",
    "\n",
    "fuzzy_ahp(criteria, pairwise_matrix, fuzzy_sets)"
   ]
  }
 ],
 "metadata": {
  "kernelspec": {
   "display_name": "Python 3",
   "language": "python",
   "name": "python3"
  },
  "language_info": {
   "codemirror_mode": {
    "name": "ipython",
    "version": 3
   },
   "file_extension": ".py",
   "mimetype": "text/x-python",
   "name": "python",
   "nbconvert_exporter": "python",
   "pygments_lexer": "ipython3",
   "version": "3.12.4"
  }
 },
 "nbformat": 4,
 "nbformat_minor": 2
}
