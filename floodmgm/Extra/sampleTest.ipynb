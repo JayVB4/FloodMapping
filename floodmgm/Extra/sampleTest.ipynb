{
 "cells": [
  {
   "cell_type": "code",
   "execution_count": 5,
   "metadata": {},
   "outputs": [
    {
     "name": "stdout",
     "output_type": "stream",
     "text": [
      "Fuzzy Pairwise Comparison Matrix:\n",
      "[[(1, 1, 1)\n",
      "  (0.757559509106031, 0.0171322626179844, 0.00017039996873284552)\n",
      "  (0.7962151528720696, 0.018169563840933097, 0.00017361946296947406)]\n",
      " [(0.9377101184379136, 0.024664253064359886, 0.0001908416665038403)\n",
      "  (1, 1, 1)\n",
      "  (0.7345112401094821, 0.01657503285777874, 0.00016860249138091814)]\n",
      " [(0.9994161042568984, 0.04427560997572791, 0.00022599863283431583)\n",
      "  (0.9720391634877179, 0.028705499031864378, 0.00019968782639286062)\n",
      "  (1, 1, 1)]]\n",
      "Final Weights:\n",
      "[0.3198398813269606, 0.3283223002206256, 0.35183781845241374]\n"
     ]
    }
   ],
   "source": [
    "import numpy as np\n",
    "\n",
    "def bell_mf(x, a, b, c):\n",
    "    return 1 / (1 + np.abs((x - c) / a) ** (2 * b))\n",
    "\n",
    "# Example criteria and their comparisons\n",
    "criteria = ['C1', 'C2', 'C3']\n",
    "n = len(criteria)\n",
    "\n",
    "# Example fuzzy pairwise comparison matrix using bell membership function\n",
    "# Values are hypothetical and need to be adjusted according to your specific comparisons\n",
    "fuzzy_matrix = np.zeros((n, n), dtype=object)\n",
    "\n",
    "a, b = 1, 2  # parameters for the bell membership function\n",
    "\n",
    "for i in range(n):\n",
    "    for j in range(n):\n",
    "        if i == j:\n",
    "            fuzzy_matrix[i][j] = (1, 1, 1)\n",
    "        else:\n",
    "            c = np.random.uniform(0.1, 0.9)  # Example random center value for the bell MF\n",
    "            fuzzy_matrix[i][j] = (bell_mf(1, a, b, c), bell_mf(3, a, b, c), bell_mf(9, a, b, c))\n",
    "\n",
    "print(\"Fuzzy Pairwise Comparison Matrix:\")\n",
    "print(fuzzy_matrix)\n",
    "\n",
    "def sum_fuzzy(fuzzy_numbers):\n",
    "    l = sum([fn[0] for fn in fuzzy_numbers])\n",
    "    m = sum([fn[1] for fn in fuzzy_numbers])\n",
    "    u = sum([fn[2] for fn in fuzzy_numbers])\n",
    "    return (l, m, u)\n",
    "\n",
    "def div_fuzzy(fuzzy_num, scalar):\n",
    "    l = fuzzy_num[0] / scalar[2]\n",
    "    m = fuzzy_num[1] / scalar[1]\n",
    "    u = fuzzy_num[2] / scalar[0]\n",
    "    return (l, m, u)\n",
    "\n",
    "def extent_analysis(fuzzy_matrix):\n",
    "    n = fuzzy_matrix.shape[0]\n",
    "    fuzzy_sums = np.zeros((n,), dtype=object)\n",
    "    \n",
    "    for i in range(n):\n",
    "        fuzzy_sums[i] = sum_fuzzy(fuzzy_matrix[i, :])\n",
    "        \n",
    "    total_sum = sum_fuzzy(fuzzy_sums)\n",
    "    fuzzy_weights = np.zeros((n,), dtype=object)\n",
    "    \n",
    "    for i in range(n):\n",
    "        fuzzy_weights[i] = div_fuzzy(fuzzy_sums[i], total_sum)\n",
    "    \n",
    "    return fuzzy_weights\n",
    "\n",
    "def defuzzify(fuzzy_weights):\n",
    "    defuzzified_weights = [(fw[0] + 2 * fw[1] + fw[2]) / 4 for fw in fuzzy_weights]\n",
    "    total = sum(defuzzified_weights)\n",
    "    return [dw / total for dw in defuzzified_weights]\n",
    "\n",
    "# Calculate and defuzzify weights\n",
    "fuzzy_weights = extent_analysis(fuzzy_matrix)\n",
    "final_weights = defuzzify(fuzzy_weights)\n",
    "\n",
    "print(\"Final Weights:\")\n",
    "print(final_weights)\n"
   ]
  }
 ],
 "metadata": {
  "kernelspec": {
   "display_name": "Python 3",
   "language": "python",
   "name": "python3"
  },
  "language_info": {
   "codemirror_mode": {
    "name": "ipython",
    "version": 3
   },
   "file_extension": ".py",
   "mimetype": "text/x-python",
   "name": "python",
   "nbconvert_exporter": "python",
   "pygments_lexer": "ipython3",
   "version": "3.12.4"
  }
 },
 "nbformat": 4,
 "nbformat_minor": 2
}
