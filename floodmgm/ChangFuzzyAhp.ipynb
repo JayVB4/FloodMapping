{
 "cells": [
  {
   "cell_type": "code",
   "execution_count": 74,
   "id": "8d2ef12b-a7f7-4111-9c85-4cfb0ebc4e62",
   "metadata": {
    "jupyter": {
     "source_hidden": true
    }
   },
   "outputs": [],
   "source": [
    "import numpy as np\n",
    "import pandas as pd\n",
    "RI = np.array([0,0,0.58,0.90,1.12,1.24,1.32,1.41,1.45,1.49,1.51,1.48,1.56,1.57,1.58])"
   ]
  },
  {
   "cell_type": "code",
   "execution_count": 75,
   "id": "c51e04d5-68bb-45e6-a63a-bc33c6f3284b",
   "metadata": {},
   "outputs": [],
   "source": [
    "data1 = np.array([[1   ,2   ,2   ,3   ,4   ,5   ,5   ,6   ,7   ,8   ,8],\n",
    "                   [1/2 ,1   ,2   ,3   ,3   ,4   ,5   ,6   ,7   ,8   ,8],\n",
    "                   [1/2 ,1/2 ,1   ,2   ,3   ,4   ,4   ,5   ,6   ,7   ,7],\n",
    "                   [1/3 ,1/3 ,1/2 ,1   ,2   ,3   ,3   ,4   ,5   ,7   ,8],\n",
    "                   [1/4 ,1/3 ,1/3 ,1/2 ,1   ,2   ,2   ,3   ,4   ,5   ,6],\n",
    "                   [1/5 ,1/4 ,1/4 ,1/3 ,1/2 ,1   ,2   ,4   ,5   ,7   ,7],\n",
    "                   [1/5 ,1/5 ,1/4 ,1/3 ,1/2 ,1/2 ,1   ,2   ,3   ,5   ,6],\n",
    "                   [1/6 ,1/6 ,1/5 ,1/4 ,1/3 ,1/4 ,1/2 ,1   ,2   ,4   ,5],\n",
    "                   [1/7 ,1/7 ,1/6 ,1/5 ,1/4 ,1/5 ,1/3 ,1/2 ,1   ,3   ,4],\n",
    "                   [1/8 ,1/8 ,1/7 ,1/7 ,1/5 ,1/7 ,1/5 ,1/4 ,1/3 ,1   ,3],\n",
    "                   [1/8 ,1/8 ,1/7 ,1/8 ,1/6 ,1/7 ,1/6 ,1/5 ,1/4 ,1/3 ,1]]\n",
    "                  )\n",
    "\n",
    "data = np.array([[1, 3 , 1/2],\n",
    "                 [1/3 , 1,3 ],\n",
    "                 [2  , 1/3 , 1]])"
   ]
  },
  {
   "cell_type": "code",
   "execution_count": 76,
   "id": "a36a3954-63a0-479f-ae67-c92b0d8eb159",
   "metadata": {},
   "outputs": [],
   "source": [
    "n = data[0].size\n",
    "float_formatter = \"{:.3f}\".format\n",
    "np.set_printoptions(formatter={'float_kind':float_formatter})"
   ]
  },
  {
   "cell_type": "code",
   "execution_count": 77,
   "id": "b580b999-355c-49c4-bf6f-23c7321f706d",
   "metadata": {},
   "outputs": [
    {
     "name": "stdout",
     "output_type": "stream",
     "text": [
      "[[[1.000 1.000 1.000]\n",
      "  [2.000 3.000 4.000]\n",
      "  [0.333 0.500 1.000]]\n",
      "\n",
      " [[0.250 0.333 0.500]\n",
      "  [1.000 1.000 1.000]\n",
      "  [2.000 3.000 4.000]]\n",
      "\n",
      " [[1.000 2.000 3.000]\n",
      "  [0.250 0.333 0.500]\n",
      "  [1.000 1.000 1.000]]]\n"
     ]
    }
   ],
   "source": [
    "mainarr = np.full((n,n,3),0,dtype=float)\n",
    "for i in range(0,n):\n",
    "    for j in range(0,n):\n",
    "        if (data[i][j]>=1):\n",
    "            mainarr[i][j][0]= data[i][j] if(data[i][j]==1 or data[i][j]==9) else data[i][j]-1\n",
    "            mainarr[i][j][2]= data[i][j] if(data[i][j]==1 or data[i][j]==9) else data[i][j]+1\n",
    "        else:\n",
    "            for k in range(2,10):\n",
    "                if (1/k==data[i][j]):\n",
    "                    mainarr[i][j][0]= data[i][j] if(data[i][j]==9) else 1/(k+1)\n",
    "                    mainarr[i][j][2]= data[i][j] if(data[i][j]==9) else 1/(k-1)\n",
    "        mainarr[i][j][1]= data[i][j]\n",
    "print(mainarr)"
   ]
  },
  {
   "cell_type": "code",
   "execution_count": 78,
   "id": "a2c58ff6-57c8-4547-8b56-e96e301f7dea",
   "metadata": {},
   "outputs": [
    {
     "name": "stdout",
     "output_type": "stream",
     "text": [
      "[[3.333 4.500 6.000]\n",
      " [3.250 4.333 5.500]\n",
      " [2.250 3.333 4.500]]\n"
     ]
    }
   ],
   "source": [
    "# for i in range(0,n):\n",
    "#     sum = sum + mainarr[i]\n",
    "#     print(i)\n",
    "geoMean = mainarr.sum(axis=1)\n",
    "print(geoMean)"
   ]
  },
  {
   "cell_type": "code",
   "execution_count": 79,
   "id": "cab23078-eb64-4e83-b661-be0c3237b169",
   "metadata": {},
   "outputs": [
    {
     "name": "stdout",
     "output_type": "stream",
     "text": [
      "[8.833 12.167 16.000]\n"
     ]
    }
   ],
   "source": [
    "print(geoMean.sum(axis=0))"
   ]
  },
  {
   "cell_type": "code",
   "execution_count": 80,
   "id": "2c4a1f1b-760b-46ab-887f-42439afa77de",
   "metadata": {},
   "outputs": [
    {
     "name": "stdout",
     "output_type": "stream",
     "text": [
      "[0.062 0.082 0.113]\n"
     ]
    }
   ],
   "source": [
    " # reciprocaled geometric mean\n",
    " print(np.reciprocal(np.flip(geoMean.sum(axis=0),0)))"
   ]
  },
  {
   "cell_type": "code",
   "execution_count": 81,
   "id": "4c2a7615-b41d-44ac-887a-ad69e2b25bdb",
   "metadata": {},
   "outputs": [
    {
     "name": "stdout",
     "output_type": "stream",
     "text": [
      "[[0.208 0.370 0.679]\n",
      " [0.203 0.356 0.623]\n",
      " [0.141 0.274 0.509]]\n"
     ]
    }
   ],
   "source": [
    "fuzzyWeight=np.full((n,3),0,dtype=float)\n",
    "for i in range(0,n):\n",
    "    fuzzyWeight[i] = np.multiply(geoMean[i] , np.reciprocal(np.flip(geoMean.sum(axis=0),0)))\n",
    "print(fuzzyWeight)"
   ]
  },
  {
   "cell_type": "code",
   "execution_count": 120,
   "id": "13e61e83-b126-4873-8af9-f206e41205ee",
   "metadata": {},
   "outputs": [],
   "source": [
    "# fuzzyWeight\n",
    "# V =np.full((n,n),0,dtype=float)\n",
    "\n",
    "# for i in range(0,n):\n",
    "#     for j in range(0,n): \n",
    "#         if(i==j):\n",
    "#             V[i][j]=\"nan\"\n",
    "#         elif fuzzyWeight[i][1]>=fuzzyWeight[j][1]:\n",
    "#             V[i][j]=1\n",
    "#         elif fuzzyWeight[i][0]>=fuzzyWeight[j][2]:\n",
    "#             V[i][j]=0\n",
    "#         else:\n",
    "#             fuzzyWeight[i][0]-fuzzyWeight[j][2]/(fuzzyWeight[j][1]-fuzzyWeight[j][2])-(fuzzyWeight[j][1]-fuzzyWeight[j][0])\n",
    "            \n",
    "# print(V) \n",
    "    \n",
    "         "
   ]
  },
  {
   "cell_type": "code",
   "execution_count": 135,
   "id": "f9625d39-1a6c-45e2-a1bf-c8540f52c959",
   "metadata": {},
   "outputs": [],
   "source": [
    "# print(fuzzyWeight)"
   ]
  },
  {
   "cell_type": "code",
   "execution_count": 134,
   "id": "b0ea26c6-cf72-4029-86fa-dfb187d3fd79",
   "metadata": {},
   "outputs": [],
   "source": [
    "# V =np.full((n,n),0,dtype=float)\n",
    "\n",
    "# def checkVector(arr1,arr2):\n",
    "      \n",
    "    "
   ]
  },
  {
   "cell_type": "code",
   "execution_count": 140,
   "id": "fe3a74eb-22ef-44f0-87ad-a4d4ec2c17c4",
   "metadata": {},
   "outputs": [
    {
     "name": "stdout",
     "output_type": "stream",
     "text": [
      "[[nan 1.000 1.000]\n",
      " [0.000 nan 1.000]\n",
      " [0.000 0.000 nan]]\n"
     ]
    }
   ],
   "source": [
    "V =np.full((n,n),0,dtype=float)\n",
    "\n",
    "arr=fuzzyWeight.copy()\n",
    "l=0\n",
    "m=1\n",
    "u=2\n",
    "for i in range(0,n):\n",
    "    arr1=arr[i]\n",
    "    for j in range(0,n):\n",
    "        arr2=arr[j]    \n",
    "        if(i==j):\n",
    "            V[i][j]=\"nan\"\n",
    "        elif arr1[m]>=arr2[m]:\n",
    "            V[i][j]=1\n",
    "        elif arr2[l]>=arr1[u]:\n",
    "            V[i][j]=0\n",
    "        else:\n",
    "            arr2[l]-arr1[u]/(arr1[m]-arr1[u])-(arr2[m]-arr2[l])\n",
    "print(V)"
   ]
  }
 ],
 "metadata": {
  "kernelspec": {
   "display_name": "Python 3 (ipykernel)",
   "language": "python",
   "name": "python3"
  },
  "language_info": {
   "codemirror_mode": {
    "name": "ipython",
    "version": 3
   },
   "file_extension": ".py",
   "mimetype": "text/x-python",
   "name": "python",
   "nbconvert_exporter": "python",
   "pygments_lexer": "ipython3",
   "version": "3.12.4"
  }
 },
 "nbformat": 4,
 "nbformat_minor": 5
}
