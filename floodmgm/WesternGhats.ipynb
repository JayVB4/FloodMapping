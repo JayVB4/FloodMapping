{
 "cells": [
  {
   "cell_type": "code",
   "execution_count": 20,
   "id": "ef63b65b-5cd2-4b66-96bf-f5d4b49f7428",
   "metadata": {},
   "outputs": [],
   "source": [
    "import numpy as np\n"
   ]
  },
  {
   "cell_type": "code",
   "execution_count": 21,
   "id": "26ae8a9a-7493-4c02-9369-c3c2737cda3f",
   "metadata": {},
   "outputs": [],
   "source": [
    "RI = np.array([0,0,0.58,0.90,1.12,1.24,1.32,1.41,1.45,1.49,1.51,1.48,1.56,1.57,1.58])\n",
    "\n",
    "mainarr = np.array([[1   ,2   ,2   ,3   ,4   ,5   ,5   ,6   ,7   ,8   ,8],\n",
    "                   [1/2 ,1   ,2   ,3   ,3   ,4   ,5   ,6   ,7   ,8   ,8],\n",
    "                   [1/2 ,1/2 ,1   ,2   ,3   ,4   ,4   ,5   ,6   ,7   ,7],\n",
    "                   [1/3 ,1/3 ,1/2 ,1   ,2   ,3   ,3   ,4   ,5   ,7   ,8],\n",
    "                   [1/4 ,1/3 ,1/3 ,1/2 ,1   ,2   ,2   ,3   ,4   ,5   ,6],\n",
    "                   [1/5 ,1/4 ,1/4 ,1/3 ,1/2 ,1   ,2   ,4   ,5   ,7   ,7],\n",
    "                   [1/5 ,1/5 ,1/4 ,1/3 ,1/2 ,1/2 ,1   ,2   ,3   ,5   ,6],\n",
    "                   [1/6 ,1/6 ,1/5 ,1/4 ,1/3 ,1/4 ,1/2 ,1   ,2   ,4   ,5],\n",
    "                   [1/7 ,1/7 ,1/6 ,1/5 ,1/4 ,1/5 ,1/3 ,1/2 ,1   ,3   ,4],\n",
    "                   [1/8 ,1/8 ,1/7 ,1/7 ,1/5 ,1/7 ,1/5 ,1/4 ,1/3 ,1   ,3],\n",
    "                   [1/8 ,1/8 ,1/7 ,1/8 ,1/6 ,1/7 ,1/6 ,1/5 ,1/4 ,1/3 ,1]]\n",
    "                  )\n",
    "\n",
    "n = mainarr[0].size"
   ]
  },
  {
   "cell_type": "code",
   "execution_count": 22,
   "id": "3db7b840-a47b-47c1-ac67-0770000bbbe0",
   "metadata": {},
   "outputs": [],
   "source": [
    "float_formatter = \"{:.4f}\".format\n",
    "np.set_printoptions(formatter={'float_kind':float_formatter})"
   ]
  },
  {
   "cell_type": "code",
   "execution_count": 23,
   "id": "5acda6ef-aebd-468c-a130-fa1c541eda60",
   "metadata": {},
   "outputs": [
    {
     "name": "stdout",
     "output_type": "stream",
     "text": [
      "[3.5429 5.1762 6.9857 10.8845 14.9500 20.2357 23.2000 31.9500 40.5833\n",
      " 55.3333 63.0000]\n"
     ]
    }
   ],
   "source": [
    "colsum = mainarr.sum(axis=0)\n",
    "print(colsum)"
   ]
  },
  {
   "cell_type": "code",
   "execution_count": 24,
   "id": "426f5dc8-b67e-4d00-b08a-261858fc7d57",
   "metadata": {},
   "outputs": [
    {
     "name": "stdout",
     "output_type": "stream",
     "text": [
      "[[0.2823 0.3864 0.2863 0.2756 0.2676 0.2471 0.2155 0.1878 0.1725 0.1446\n",
      "  0.1270]\n",
      " [0.1411 0.1932 0.2863 0.2756 0.2007 0.1977 0.2155 0.1878 0.1725 0.1446\n",
      "  0.1270]\n",
      " [0.1411 0.0966 0.1431 0.1837 0.2007 0.1977 0.1724 0.1565 0.1478 0.1265\n",
      "  0.1111]\n",
      " [0.0941 0.0644 0.0716 0.0919 0.1338 0.1483 0.1293 0.1252 0.1232 0.1265\n",
      "  0.1270]\n",
      " [0.0706 0.0644 0.0477 0.0459 0.0669 0.0988 0.0862 0.0939 0.0986 0.0904\n",
      "  0.0952]\n",
      " [0.0565 0.0483 0.0358 0.0306 0.0334 0.0494 0.0862 0.1252 0.1232 0.1265\n",
      "  0.1111]\n",
      " [0.0565 0.0386 0.0358 0.0306 0.0334 0.0247 0.0431 0.0626 0.0739 0.0904\n",
      "  0.0952]\n",
      " [0.0470 0.0322 0.0286 0.0230 0.0223 0.0124 0.0216 0.0313 0.0493 0.0723\n",
      "  0.0794]\n",
      " [0.0403 0.0276 0.0239 0.0184 0.0167 0.0099 0.0144 0.0156 0.0246 0.0542\n",
      "  0.0635]\n",
      " [0.0353 0.0241 0.0204 0.0131 0.0134 0.0071 0.0086 0.0078 0.0082 0.0181\n",
      "  0.0476]\n",
      " [0.0353 0.0241 0.0204 0.0115 0.0111 0.0071 0.0072 0.0063 0.0062 0.0060\n",
      "  0.0159]]\n"
     ]
    }
   ],
   "source": [
    "i=0\n",
    "normalizedform = np.array(mainarr)\n",
    "for p in mainarr:\n",
    "    normalizedform[i] = np.divide(mainarr[i] , colsum)\n",
    "    i+=1\n",
    "    \n",
    "print(normalizedform)\n",
    "\n"
   ]
  },
  {
   "cell_type": "code",
   "execution_count": 25,
   "id": "25a422f8-0aa2-4602-810b-ef01bc914373",
   "metadata": {},
   "outputs": [
    {
     "name": "stdout",
     "output_type": "stream",
     "text": [
      "[0.2357 0.1947 0.1525 0.1123 0.0781 0.0751 0.0532 0.0381 0.0281 0.0185\n",
      " 0.0137]\n"
     ]
    }
   ],
   "source": [
    "criteriaweights = normalizedform.sum(axis=1)/n\n",
    "print(criteriaweights)"
   ]
  },
  {
   "cell_type": "code",
   "execution_count": 26,
   "id": "c56d1251-7a35-488d-adc9-ead1f814e307",
   "metadata": {},
   "outputs": [
    {
     "name": "stdout",
     "output_type": "stream",
     "text": [
      "[[0.2357 0.3894 0.3050 0.3369 0.3122 0.3756 0.2659 0.2287 0.1967 0.1482\n",
      "  0.1099]\n",
      " [0.1178 0.1947 0.3050 0.3369 0.2342 0.3005 0.2659 0.2287 0.1967 0.1482\n",
      "  0.1099]\n",
      " [0.1178 0.0974 0.1525 0.2246 0.2342 0.3005 0.2127 0.1906 0.1686 0.1297\n",
      "  0.0961]\n",
      " [0.0786 0.0649 0.0762 0.1123 0.1561 0.2253 0.1595 0.1525 0.1405 0.1297\n",
      "  0.1099]\n",
      " [0.0589 0.0649 0.0508 0.0561 0.0781 0.1502 0.1063 0.1143 0.1124 0.0926\n",
      "  0.0824]\n",
      " [0.0471 0.0487 0.0381 0.0374 0.0390 0.0751 0.1063 0.1525 0.1405 0.1297\n",
      "  0.0961]\n",
      " [0.0471 0.0389 0.0381 0.0374 0.0390 0.0376 0.0532 0.0762 0.0843 0.0926\n",
      "  0.0824]\n",
      " [0.0393 0.0325 0.0305 0.0281 0.0260 0.0188 0.0266 0.0381 0.0562 0.0741\n",
      "  0.0687]\n",
      " [0.0337 0.0278 0.0254 0.0225 0.0195 0.0150 0.0177 0.0191 0.0281 0.0556\n",
      "  0.0549]\n",
      " [0.0295 0.0243 0.0218 0.0160 0.0156 0.0107 0.0106 0.0095 0.0094 0.0185\n",
      "  0.0412]\n",
      " [0.0295 0.0243 0.0218 0.0140 0.0130 0.0107 0.0089 0.0076 0.0070 0.0062\n",
      "  0.0137]]\n"
     ]
    }
   ],
   "source": [
    "#data consistency checling started\n",
    "\n",
    "i=0\n",
    "c1 = np.array(mainarr)\n",
    "for p in mainarr:\n",
    "    c1[i] = np.multiply(mainarr[i] , criteriaweights)\n",
    "    i=i+1\n",
    "\n",
    "print(c1)\n",
    "\n"
   ]
  },
  {
   "cell_type": "code",
   "execution_count": 27,
   "id": "15fea487-1979-4356-a199-23d2a40e4a98",
   "metadata": {},
   "outputs": [
    {
     "name": "stdout",
     "output_type": "stream",
     "text": [
      "[12.3218 12.5223 12.6215 12.5170 12.3915 12.1237 11.7915 11.5118 11.3618\n",
      " 11.1853 11.4155]\n"
     ]
    }
   ],
   "source": [
    "weightedsum = c1.sum(axis=1)\n",
    "\n",
    "#weightedsum upon criteria weight\n",
    "naipata = np.divide(weightedsum,criteriaweights)\n",
    "print(naipata)"
   ]
  },
  {
   "cell_type": "code",
   "execution_count": 28,
   "id": "5e814a3c-3ef9-46dd-9d37-47ebc39d3847",
   "metadata": {},
   "outputs": [
    {
     "name": "stdout",
     "output_type": "stream",
     "text": [
      "11.9785\n"
     ]
    }
   ],
   "source": [
    "lamda = naipata.sum(axis=0)/n\n",
    "\n",
    "lamda=round(lamda, 4) \n",
    "print(lamda)"
   ]
  },
  {
   "cell_type": "code",
   "execution_count": 29,
   "id": "92a0016b-ce84-4f3c-85f3-810ccde0c45a",
   "metadata": {},
   "outputs": [
    {
     "name": "stdout",
     "output_type": "stream",
     "text": [
      "0.09785\n"
     ]
    }
   ],
   "source": [
    "#now we find consistency index CI\n",
    "\n",
    "CI = (lamda-n)/(n-1)\n",
    "CI = round(CI,5)\n",
    "print(CI)\n"
   ]
  },
  {
   "cell_type": "code",
   "execution_count": 30,
   "id": "17742e22-393e-4062-a93b-666f5faf3601",
   "metadata": {},
   "outputs": [
    {
     "name": "stdout",
     "output_type": "stream",
     "text": [
      "0.06480132450331126\n"
     ]
    }
   ],
   "source": [
    "#cr is consistency ratio = consistency index upon random index\n",
    "CR = CI / RI[n-1]\n",
    "\n",
    "print(CR)\n"
   ]
  },
  {
   "cell_type": "code",
   "execution_count": 31,
   "id": "9b876a1a-1d88-4b52-9fb8-cb45a917d878",
   "metadata": {},
   "outputs": [
    {
     "name": "stdout",
     "output_type": "stream",
     "text": [
      "VALUES ARE CONSISTENT - go ahead\n"
     ]
    }
   ],
   "source": [
    "if(CR<0.10):\n",
    "    print(\"VALUES ARE CONSISTENT - go ahead\")\n",
    "else:\n",
    "    print(\"criteria weights are not consistent reEnter the values\")\n",
    "    "
   ]
  },
  {
   "cell_type": "code",
   "execution_count": 32,
   "id": "e0deaaef-63c3-4dbc-8baf-fe9997d956e5",
   "metadata": {},
   "outputs": [],
   "source": [
    "#function made\n",
    "\n",
    "def bene(arr) :\n",
    "    max1 = np.max(arr[1])\n",
    "    max2 = np.max(arr[2])\n",
    "    max3 = np.max(arr[3])\n",
    "\n",
    "    ite=0\n",
    "    for i in arr[1] :\n",
    "        arr[1][ite]=i/max1\n",
    "        ite+=1\n",
    "    ite=0\n",
    "    for i in arr[2] :\n",
    "        arr[2][ite]=i/max2\n",
    "        ite+=1\n",
    "    \n",
    "    ite=0\n",
    "    for i in arr[3] :\n",
    "        arr[3][ite]=i/max3\n",
    "        ite+=1\n",
    "        \n",
    "    #non beneficial min/i\n",
    "    ite=0\n",
    "    min1 = np.min(arr[0])\n",
    "    for i in arr[0] :\n",
    "        arr[0][ite]=min1/i\n",
    "        ite=ite+1\n"
   ]
  },
  {
   "cell_type": "code",
   "execution_count": 33,
   "id": "4ed281b5-c638-4ff0-8a23-868d44b186ab",
   "metadata": {},
   "outputs": [
    {
     "name": "stdout",
     "output_type": "stream",
     "text": [
      "\n",
      "\n",
      "[[0.8000 0.5000 0.7500 1.0000]\n",
      " [1.0000 0.5000 0.5000 0.6000]\n",
      " [0.6667 1.0000 1.0000 0.8000]\n",
      " [0.7273 1.0000 0.5000 0.8000]\n",
      " [0.8889 0.5000 1.0000 0.4000]]\n"
     ]
    }
   ],
   "source": [
    "#Tla transpose list array   ctla copy of tla\n",
    "listarray = np.array([[250,16,12,5],[200,16,8,3],[300,32,16,4],[275,32,8,4],[225,16,16,2]])\n",
    "print(\"\\n\")\n",
    "Tla = listarray.T\n",
    "Tla = Tla.astype('float64') \n",
    "\n",
    "\n",
    "# function called\n",
    "bene(Tla)\n",
    "Tla = Tla.T\n",
    "print(Tla)\n",
    "\n"
   ]
  },
  {
   "cell_type": "code",
   "execution_count": 34,
   "id": "eae0fe8d-8d7b-45a8-b8f5-fb1de9d4a6f6",
   "metadata": {},
   "outputs": [
    {
     "ename": "ValueError",
     "evalue": "operands could not be broadcast together with shapes (4,) (11,) ",
     "output_type": "error",
     "traceback": [
      "\u001b[1;31m---------------------------------------------------------------------------\u001b[0m",
      "\u001b[1;31mValueError\u001b[0m                                Traceback (most recent call last)",
      "Cell \u001b[1;32mIn[34], line 3\u001b[0m\n\u001b[0;32m      1\u001b[0m cw \u001b[38;5;241m=\u001b[39m \u001b[38;5;241m0\u001b[39m\n\u001b[0;32m      2\u001b[0m \u001b[38;5;28;01mfor\u001b[39;00m i \u001b[38;5;129;01min\u001b[39;00m Tla:\n\u001b[1;32m----> 3\u001b[0m     Tla[cw] \u001b[38;5;241m=\u001b[39m \u001b[43mnp\u001b[49m\u001b[38;5;241;43m.\u001b[39;49m\u001b[43mmultiply\u001b[49m\u001b[43m(\u001b[49m\u001b[43mTla\u001b[49m\u001b[43m[\u001b[49m\u001b[43mcw\u001b[49m\u001b[43m]\u001b[49m\u001b[43m,\u001b[49m\u001b[43mcriteriaweights\u001b[49m\u001b[43m)\u001b[49m\n\u001b[0;32m      4\u001b[0m     cw\u001b[38;5;241m+\u001b[39m\u001b[38;5;241m=\u001b[39m\u001b[38;5;241m1\u001b[39m\n\u001b[0;32m      5\u001b[0m \u001b[38;5;28mprint\u001b[39m(Tla)\n",
      "\u001b[1;31mValueError\u001b[0m: operands could not be broadcast together with shapes (4,) (11,) "
     ]
    }
   ],
   "source": [
    "cw = 0\n",
    "for i in Tla:\n",
    "    Tla[cw] = np.multiply(Tla[cw],criteriaweights)\n",
    "    cw+=1\n",
    "print(Tla)\n"
   ]
  },
  {
   "cell_type": "code",
   "execution_count": null,
   "id": "043defb8-5dbe-4b0c-b31f-726eb8525a45",
   "metadata": {},
   "outputs": [],
   "source": [
    "#weighted normalized decision matrix\n",
    "\n",
    "# out_arr = np.multiply(in_arr1, in_arr2) ye galat hai for what i am doin     \n",
    "\n",
    "# out_arr=np.array(in_arr1)*np.array(in_arr2) this is right\n",
    "\n",
    "# wndm = np.array(Tla)*np.array(cw)\n",
    "# print(wndm)\n",
    "#now this is according to the other video example\n"
   ]
  },
  {
   "cell_type": "code",
   "execution_count": null,
   "id": "cc5c4f4f-5146-473d-8a4c-4aeced07af77",
   "metadata": {},
   "outputs": [],
   "source": [
    "perfscore = Tla.sum(axis=1)\n",
    "print (perfscore)"
   ]
  },
  {
   "cell_type": "code",
   "execution_count": null,
   "id": "7af7a24a-7e77-4268-820e-d391b777df28",
   "metadata": {},
   "outputs": [],
   "source": [
    "rankArr = np.array(perfscore)\n",
    "ranks = perfscore.size\n",
    "for score in rankArr :\n",
    "    rankArr[rankArr.argmin()]=ranks\n",
    "    ranks-=1\n",
    "print(rankArr)"
   ]
  },
  {
   "cell_type": "code",
   "execution_count": null,
   "id": "d46ffcd7-27d7-4987-85c3-207517baa90e",
   "metadata": {},
   "outputs": [],
   "source": [
    "finalarr = np.column_stack([listarray,rankArr])\n",
    "print(finalarr)"
   ]
  },
  {
   "cell_type": "code",
   "execution_count": null,
   "id": "ddd06e34-de9c-42f5-a63d-413534d55e5b",
   "metadata": {},
   "outputs": [],
   "source": [
    "finalarr = finalarr[finalarr[:,finalarr[0].size-1].argsort()]\n",
    "print(finalarr)"
   ]
  },
  {
   "cell_type": "code",
   "execution_count": null,
   "id": "98cea1e9-c52f-4229-864e-dcd8737f1679",
   "metadata": {},
   "outputs": [],
   "source": []
  }
 ],
 "metadata": {
  "kernelspec": {
   "display_name": "Python 3 (ipykernel)",
   "language": "python",
   "name": "python3"
  },
  "language_info": {
   "codemirror_mode": {
    "name": "ipython",
    "version": 3
   },
   "file_extension": ".py",
   "mimetype": "text/x-python",
   "name": "python",
   "nbconvert_exporter": "python",
   "pygments_lexer": "ipython3",
   "version": "3.12.4"
  }
 },
 "nbformat": 4,
 "nbformat_minor": 5
}
