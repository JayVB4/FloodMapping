{
 "cells": [
  {
   "cell_type": "code",
   "execution_count": 23,
   "id": "ef63b65b-5cd2-4b66-96bf-f5d4b49f7428",
   "metadata": {},
   "outputs": [],
   "source": [
    "import numpy as np\n",
    "RI = np.array([0,0,0.58,0.90,1.12,1.24,1.32,1.41,1.45,1.49,1.51,1.48,1.56,1.57,1.58])\n",
    "\n",
    "mainarr = np.array([[1   ,2   ,2   ,3   ,4   ,5   ,5   ,6   ,7   ,8   ,8],\n",
    "                   [1/2 ,1   ,2   ,3   ,3   ,4   ,5   ,6   ,7   ,8   ,8],\n",
    "                   [1/2 ,1/2 ,1   ,2   ,3   ,4   ,4   ,5   ,6   ,7   ,7],\n",
    "                   [1/3 ,1/3 ,1/2 ,1   ,2   ,3   ,3   ,4   ,5   ,7   ,8],\n",
    "                   [1/4 ,1/3 ,1/3 ,1/2 ,1   ,2   ,2   ,3   ,4   ,5   ,6],\n",
    "                   [1/5 ,1/4 ,1/4 ,1/3 ,1/2 ,1   ,2   ,4   ,5   ,7   ,7],\n",
    "                   [1/5 ,1/5 ,1/4 ,1/3 ,1/2 ,1/2 ,1   ,2   ,3   ,5   ,6],\n",
    "                   [1/6 ,1/6 ,1/5 ,1/4 ,1/3 ,1/4 ,1/2 ,1   ,2   ,4   ,5],\n",
    "                   [1/7 ,1/7 ,1/6 ,1/5 ,1/4 ,1/5 ,1/3 ,1/2 ,1   ,3   ,4],\n",
    "                   [1/8 ,1/8 ,1/7 ,1/7 ,1/5 ,1/7 ,1/5 ,1/4 ,1/3 ,1   ,3],\n",
    "                   [1/8 ,1/8 ,1/7 ,1/8 ,1/6 ,1/7 ,1/6 ,1/5 ,1/4 ,1/3 ,1]]\n",
    "                  )\n",
    "\n",
    "n = mainarr[0].size\n",
    "float_formatter = \"{:.4f}\".format\n",
    "np.set_printoptions(formatter={'float_kind':float_formatter})"
   ]
  },
  {
   "cell_type": "code",
   "execution_count": 24,
   "id": "17ca95a3-6b54-4d2d-ba3f-368e210d9f00",
   "metadata": {},
   "outputs": [],
   "source": [
    "def criteriaWeights(mainarr):\n",
    "    n = mainarr[0].size\n",
    "    colsum = mainarr.sum(axis=0)\n",
    "    # normalized form \n",
    "    i=0\n",
    "    \n",
    "    normalizedform = np.array(mainarr)\n",
    "    for p in mainarr:\n",
    "        normalizedform[i] = np.divide(mainarr[i] , colsum)\n",
    "        i+=1\n",
    "    \n",
    "    # finding criteriaweights\n",
    "    criteriaweights = normalizedform.sum(axis=1)/n\n",
    "\n",
    "    #data consistency checling started\n",
    "\n",
    "    i=0\n",
    "    c1 = np.array(mainarr)\n",
    "    for p in mainarr:\n",
    "        c1[i] = np.multiply(mainarr[i] , criteriaweights)\n",
    "        i=i+1\n",
    "\n",
    "    weightedsum = c1.sum(axis=1)\n",
    "\n",
    "    #weightedsum upon criteria weight = naipata\n",
    "    naipata = np.divide(weightedsum,criteriaweights)\n",
    "    lamda = naipata.sum(axis=0)/n\n",
    "    lamda=round(lamda, 4) \n",
    "        #now we find consistency index CI\n",
    "    CI = (lamda-n)/(n-1)\n",
    "    CI = round(CI,5)\n",
    "\n",
    "    #cr is consistency ratio = consistency index upon random index\n",
    "    CR = CI / RI[n-1]\n",
    "    print(\"cr \",CR)\n",
    "    \n",
    "    if(CR<0.10):\n",
    "        print(\"VALUES ARE CONSISTENT - go ahead\")\n",
    "        return criteriaweights\n",
    "    else:\n",
    "        print(\"criteria weights are not consistent reEnter the values\")\n",
    "\n"
   ]
  },
  {
   "cell_type": "code",
   "execution_count": 10,
   "id": "b44e7fed-e6ff-4974-98f6-16ae99054cb9",
   "metadata": {},
   "outputs": [],
   "source": [
    "#subcriteria\n"
   ]
  },
  {
   "cell_type": "code",
   "execution_count": 20,
   "id": "e5501bd9",
   "metadata": {},
   "outputs": [
    {
     "name": "stdout",
     "output_type": "stream",
     "text": [
      "cr  0.06480132450331126\n",
      "VALUES ARE CONSISTENT - go ahead\n",
      "[0.2357 0.1947 0.1525 0.1123 0.0781 0.0751 0.0532 0.0381 0.0281 0.0185\n",
      " 0.0137]\n"
     ]
    }
   ],
   "source": [
    "print(criteriaWeights(mainarr))"
   ]
  },
  {
   "cell_type": "code",
   "execution_count": 25,
   "id": "e0deaaef-63c3-4dbc-8baf-fe9997d956e5",
   "metadata": {},
   "outputs": [],
   "source": [
    "#function made\n",
    "def bene(arr):\n",
    "    num=0\n",
    "    while num<n:\n",
    "        ite=0\n",
    "        max=np.max(arr[num])\n",
    "        min=np.min(arr[num])\n",
    "        for i in arr[num] :\n",
    "            if(num != 0):\n",
    "                arr[num][ite]=i/max\n",
    "            else:\n",
    "                arr[num][ite]=min/i\n",
    "            ite+=1\n",
    "        num+=1"
   ]
  },
  {
   "cell_type": "code",
   "execution_count": 13,
   "id": "4ed281b5-c638-4ff0-8a23-868d44b186ab",
   "metadata": {},
   "outputs": [
    {
     "name": "stdout",
     "output_type": "stream",
     "text": [
      "\n",
      "\n",
      "[[0.8000 0.5000 0.7500 1.0000]\n",
      " [1.0000 0.5000 0.5000 0.6000]\n",
      " [0.6667 1.0000 1.0000 0.8000]\n",
      " [0.7273 1.0000 0.5000 0.8000]\n",
      " [0.8889 0.5000 1.0000 0.4000]]\n"
     ]
    }
   ],
   "source": [
    "#Tla transpose list array   ctla copy of tla\n",
    "listarray = np.array([[250,16,12,5],[200,16,8,3],[300,32,16,4],[275,32,8,4],[225,16,16,2]])\n",
    "print(\"\\n\")\n",
    "Tla = listarray.T\n",
    "Tla = Tla.astype('float64') \n",
    "\n",
    "\n",
    "# function called\n",
    "bene(Tla)\n",
    "Tla = Tla.T\n",
    "print(Tla)\n",
    "\n"
   ]
  },
  {
   "cell_type": "code",
   "execution_count": 19,
   "id": "eae0fe8d-8d7b-45a8-b8f5-fb1de9d4a6f6",
   "metadata": {},
   "outputs": [
    {
     "ename": "NameError",
     "evalue": "name 'criteriaweights' is not defined",
     "output_type": "error",
     "traceback": [
      "\u001b[1;31m---------------------------------------------------------------------------\u001b[0m",
      "\u001b[1;31mNameError\u001b[0m                                 Traceback (most recent call last)",
      "Cell \u001b[1;32mIn[19], line 3\u001b[0m\n\u001b[0;32m      1\u001b[0m cw \u001b[38;5;241m=\u001b[39m \u001b[38;5;241m0\u001b[39m\n\u001b[0;32m      2\u001b[0m \u001b[38;5;28;01mfor\u001b[39;00m i \u001b[38;5;129;01min\u001b[39;00m Tla:\n\u001b[1;32m----> 3\u001b[0m     Tla[cw] \u001b[38;5;241m=\u001b[39m np\u001b[38;5;241m.\u001b[39mmultiply(Tla[cw],\u001b[43mcriteriaweights\u001b[49m)\n\u001b[0;32m      4\u001b[0m     cw\u001b[38;5;241m+\u001b[39m\u001b[38;5;241m=\u001b[39m\u001b[38;5;241m1\u001b[39m\n\u001b[0;32m      5\u001b[0m \u001b[38;5;28mprint\u001b[39m(Tla)\n",
      "\u001b[1;31mNameError\u001b[0m: name 'criteriaweights' is not defined"
     ]
    }
   ],
   "source": [
    "cw = 0\n",
    "for i in Tla:\n",
    "    Tla[cw] = np.multiply(Tla[cw],criteriaweights)\n",
    "    cw+=1\n",
    "print(Tla)\n"
   ]
  },
  {
   "cell_type": "code",
   "execution_count": null,
   "id": "043defb8-5dbe-4b0c-b31f-726eb8525a45",
   "metadata": {},
   "outputs": [],
   "source": [
    "#weighted normalized decision matrix\n",
    "\n",
    "# out_arr = np.multiply(in_arr1, in_arr2) ye galat hai for what i am doin     \n",
    "\n",
    "# out_arr=np.array(in_arr1)*np.array(in_arr2) this is right\n",
    "\n",
    "# wndm = np.array(Tla)*np.array(cw)\n",
    "# print(wndm)\n",
    "#now this is according to the other video example\n"
   ]
  },
  {
   "cell_type": "code",
   "execution_count": null,
   "id": "cc5c4f4f-5146-473d-8a4c-4aeced07af77",
   "metadata": {},
   "outputs": [],
   "source": [
    "perfscore = Tla.sum(axis=1)\n",
    "print (perfscore)"
   ]
  },
  {
   "cell_type": "code",
   "execution_count": null,
   "id": "7af7a24a-7e77-4268-820e-d391b777df28",
   "metadata": {},
   "outputs": [],
   "source": [
    "rankArr = np.array(perfscore)\n",
    "ranks = perfscore.size\n",
    "for score in rankArr :\n",
    "    rankArr[rankArr.argmin()]=ranks\n",
    "    ranks-=1\n",
    "print(rankArr)"
   ]
  },
  {
   "cell_type": "code",
   "execution_count": null,
   "id": "d46ffcd7-27d7-4987-85c3-207517baa90e",
   "metadata": {},
   "outputs": [],
   "source": [
    "finalarr = np.column_stack([listarray,rankArr])\n",
    "print(finalarr)"
   ]
  },
  {
   "cell_type": "code",
   "execution_count": null,
   "id": "ddd06e34-de9c-42f5-a63d-413534d55e5b",
   "metadata": {},
   "outputs": [],
   "source": [
    "finalarr = finalarr[finalarr[:,finalarr[0].size-1].argsort()]\n",
    "print(finalarr)"
   ]
  },
  {
   "cell_type": "code",
   "execution_count": null,
   "id": "98cea1e9-c52f-4229-864e-dcd8737f1679",
   "metadata": {},
   "outputs": [],
   "source": []
  },
  {
   "cell_type": "code",
   "execution_count": null,
   "id": "24f7f419-5f79-4d1a-ac46-c944d108f906",
   "metadata": {},
   "outputs": [],
   "source": []
  },
  {
   "cell_type": "code",
   "execution_count": null,
   "id": "e506e800-47c4-459d-912e-512afbe13f70",
   "metadata": {},
   "outputs": [],
   "source": []
  }
 ],
 "metadata": {
  "kernelspec": {
   "display_name": "Python 3 (ipykernel)",
   "language": "python",
   "name": "python3"
  },
  "language_info": {
   "codemirror_mode": {
    "name": "ipython",
    "version": 3
   },
   "file_extension": ".py",
   "mimetype": "text/x-python",
   "name": "python",
   "nbconvert_exporter": "python",
   "pygments_lexer": "ipython3",
   "version": "3.12.4"
  }
 },
 "nbformat": 4,
 "nbformat_minor": 5
}
