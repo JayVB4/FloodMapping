{
 "cells": [
  {
   "cell_type": "code",
   "execution_count": 46,
   "id": "a07295aa-5601-438f-8fd2-5e38db04106b",
   "metadata": {},
   "outputs": [],
   "source": [
    "def sivalue(mainarr):\n",
    "    \n",
    "    sival=np.full((n,3),0,dtype=float)\n",
    "    for i in range(0,n):\n",
    "        sival[i] = np.multiply((mainarr.sum(axis=1))[i] , np.reciprocal(np.flip((mainarr.sum(axis=1)).sum(axis=0),0)))\n",
    "        V =np.full((n,n),0,dtype=float)\n",
    "    # arr=fuzzyWeight.copy() \n",
    "\n",
    "    for i in range(0,n):\n",
    "        arr1 = sival[i]\n",
    "   \n",
    "        for j in range(0,n):\n",
    "            arr2=sival[j]\n",
    "            if(i==j):\n",
    "                V[i][j]=2\n",
    "            elif arr1[1]>=arr2[1]:\n",
    "                V[i][j]=1\n",
    "            elif arr2[0]>=arr1[2]:\n",
    "                V[i][j]=0\n",
    "            else:\n",
    "                V[i][j]=(arr2[0]-arr1[2])/((arr1[1]-arr1[2])-(arr2[1]-arr2[0]))\n",
    "    nonfuzzyweight= np.divide(V.min(axis=1),V.min(axis=1).sum(axis=0))\n",
    "    return nonfuzzyweight\n"
   ]
  },
  {
   "cell_type": "code",
   "execution_count": 53,
   "id": "a5b4f909-41c6-4271-bd59-6ff99812a044",
   "metadata": {},
   "outputs": [],
   "source": [
    "def criteriaWeights(mainarr):\n",
    "    i=0\n",
    "    c1 = np.array(mainarr)\n",
    "    for p in mainarr:\n",
    "        c1[i] = np.multiply(mainarr[i] , fuzzify(data))\n",
    "        i=i+1\n",
    "\n",
    "    weightedsum = c1.sum(axis=1)\n",
    "\n",
    "    #weightedsum upon criteria weight = naipata\n",
    "    naipata = np.divide(weightedsum,fuzzify(data))\n",
    "    lamda = naipata.sum(axis=0)/n\n",
    "    lamda=round(lamda, 4) \n",
    "        #now we find consistency index CI\n",
    "    CI = (lamda-n)/(n-1)\n",
    "    CI = round(CI,5)\n",
    "\n",
    "    #cr is consistency ratio = consistency index upon random index\n",
    "    CR = CI / RI[n-1]\n",
    "    print(\"cr \",CR)\n",
    "    \n",
    "    if(CR<0.10):\n",
    "        print(\"VALUES ARE CONSISTENT - go ahead\")\n",
    "        return criteriaweights\n",
    "    else:\n",
    "        print(\"criteria weights are not consistent reEnter the values\")\n",
    "\n"
   ]
  },
  {
   "cell_type": "code",
   "execution_count": 48,
   "id": "f213483c-7b6c-419c-ab5b-3417a76cd800",
   "metadata": {},
   "outputs": [],
   "source": [
    "def fuzzify(data):\n",
    "    n = data[0].size\n",
    "    mainarr = np.full((n,n,3),0,dtype=float)\n",
    "    for i in range(0,n):\n",
    "        for j in range(0,n):\n",
    "            if (data[i][j]>=1):\n",
    "                mainarr[i][j][0]= data[i][j] if(data[i][j]==1 or data[i][j]==9) else data[i][j]-1\n",
    "                mainarr[i][j][2]= data[i][j] if(data[i][j]==1 or data[i][j]==9) else data[i][j]+1\n",
    "            else:\n",
    "                for k in range(2,10):\n",
    "                    if (1/k==data[i][j]):\n",
    "                        mainarr[i][j][0]= data[i][j] if(data[i][j]==9) else 1/(k+1)\n",
    "                        mainarr[i][j][2]= data[i][j] if(data[i][j]==9) else 1/(k-1)\n",
    "            mainarr[i][j][1]= data[i][j]\n",
    "    \n",
    "    return sivalue(mainarr)\n",
    "    \n",
    "    "
   ]
  },
  {
   "cell_type": "code",
   "execution_count": 49,
   "id": "40951342-b15c-4449-a05e-a1420b3f7645",
   "metadata": {},
   "outputs": [],
   "source": [
    "import numpy as np\n",
    "import pandas as pd\n",
    "RI = np.array([0,0,0.58,0.90,1.12,1.24,1.32,1.41,1.45,1.49,1.51,1.48,1.56,1.57,1.58])\n",
    "\n",
    "data = np.array([[1, 3 , 1/2],\n",
    "                 [1/3 , 1,3 ],\n",
    "                 [2  , 1/3 , 1]])\n",
    "\n",
    "\n",
    "n = data[0].size\n",
    "\n",
    "float_formatter = \"{:.3f}\".format\n",
    "np.set_printoptions(formatter={'float_kind':float_formatter})\n",
    "\n"
   ]
  },
  {
   "cell_type": "code",
   "execution_count": 52,
   "id": "2ea7bcc4-829d-4487-97bf-7ccb31d1ea6d",
   "metadata": {},
   "outputs": [
    {
     "name": "stdout",
     "output_type": "stream",
     "text": [
      "[0.367 0.355 0.278]\n"
     ]
    },
    {
     "ename": "AxisError",
     "evalue": "axis 1 is out of bounds for array of dimension 1",
     "output_type": "error",
     "traceback": [
      "\u001b[1;31m---------------------------------------------------------------------\u001b[0m",
      "\u001b[1;31mAxisError\u001b[0m                           Traceback (most recent call last)",
      "Cell \u001b[1;32mIn[52], line 3\u001b[0m\n\u001b[0;32m      1\u001b[0m nonFuzzyWeights\u001b[38;5;241m=\u001b[39mfuzzify(data)\n\u001b[0;32m      2\u001b[0m \u001b[38;5;28mprint\u001b[39m(nonFuzzyWeights)\n\u001b[1;32m----> 3\u001b[0m \u001b[43mcriteriaWeights\u001b[49m\u001b[43m(\u001b[49m\u001b[43mnonFuzzyWeights\u001b[49m\u001b[43m)\u001b[49m\n",
      "Cell \u001b[1;32mIn[51], line 13\u001b[0m, in \u001b[0;36mcriteriaWeights\u001b[1;34m(mainarr)\u001b[0m\n\u001b[0;32m     10\u001b[0m     i\u001b[38;5;241m+\u001b[39m\u001b[38;5;241m=\u001b[39m\u001b[38;5;241m1\u001b[39m\n\u001b[0;32m     12\u001b[0m \u001b[38;5;66;03m# finding criteriaweights\u001b[39;00m\n\u001b[1;32m---> 13\u001b[0m criteriaweights \u001b[38;5;241m=\u001b[39m \u001b[43mnormalizedform\u001b[49m\u001b[38;5;241;43m.\u001b[39;49m\u001b[43msum\u001b[49m\u001b[43m(\u001b[49m\u001b[43maxis\u001b[49m\u001b[38;5;241;43m=\u001b[39;49m\u001b[38;5;241;43m1\u001b[39;49m\u001b[43m)\u001b[49m\u001b[38;5;241m/\u001b[39mn\n\u001b[0;32m     15\u001b[0m \u001b[38;5;66;03m#data consistency checling started\u001b[39;00m\n\u001b[0;32m     17\u001b[0m i\u001b[38;5;241m=\u001b[39m\u001b[38;5;241m0\u001b[39m\n",
      "File \u001b[1;32m~\\AppData\\Local\\Programs\\Python\\Python312\\Lib\\site-packages\\numpy\\core\\_methods.py:49\u001b[0m, in \u001b[0;36m_sum\u001b[1;34m(a, axis, dtype, out, keepdims, initial, where)\u001b[0m\n\u001b[0;32m     47\u001b[0m \u001b[38;5;28;01mdef\u001b[39;00m \u001b[38;5;21m_sum\u001b[39m(a, axis\u001b[38;5;241m=\u001b[39m\u001b[38;5;28;01mNone\u001b[39;00m, dtype\u001b[38;5;241m=\u001b[39m\u001b[38;5;28;01mNone\u001b[39;00m, out\u001b[38;5;241m=\u001b[39m\u001b[38;5;28;01mNone\u001b[39;00m, keepdims\u001b[38;5;241m=\u001b[39m\u001b[38;5;28;01mFalse\u001b[39;00m,\n\u001b[0;32m     48\u001b[0m          initial\u001b[38;5;241m=\u001b[39m_NoValue, where\u001b[38;5;241m=\u001b[39m\u001b[38;5;28;01mTrue\u001b[39;00m):\n\u001b[1;32m---> 49\u001b[0m     \u001b[38;5;28;01mreturn\u001b[39;00m \u001b[43mumr_sum\u001b[49m\u001b[43m(\u001b[49m\u001b[43ma\u001b[49m\u001b[43m,\u001b[49m\u001b[43m \u001b[49m\u001b[43maxis\u001b[49m\u001b[43m,\u001b[49m\u001b[43m \u001b[49m\u001b[43mdtype\u001b[49m\u001b[43m,\u001b[49m\u001b[43m \u001b[49m\u001b[43mout\u001b[49m\u001b[43m,\u001b[49m\u001b[43m \u001b[49m\u001b[43mkeepdims\u001b[49m\u001b[43m,\u001b[49m\u001b[43m \u001b[49m\u001b[43minitial\u001b[49m\u001b[43m,\u001b[49m\u001b[43m \u001b[49m\u001b[43mwhere\u001b[49m\u001b[43m)\u001b[49m\n",
      "\u001b[1;31mAxisError\u001b[0m: axis 1 is out of bounds for array of dimension 1"
     ]
    }
   ],
   "source": [
    "nonFuzzyWeights=fuzzify(data)\n",
    "print(nonFuzzyWeights)"
   ]
  },
  {
   "cell_type": "code",
   "execution_count": null,
   "id": "c52d3672-ecf6-48bc-a39b-f7e55be351e9",
   "metadata": {},
   "outputs": [],
   "source": []
  }
 ],
 "metadata": {
  "kernelspec": {
   "display_name": "Python 3 (ipykernel)",
   "language": "python",
   "name": "python3"
  },
  "language_info": {
   "codemirror_mode": {
    "name": "ipython",
    "version": 3
   },
   "file_extension": ".py",
   "mimetype": "text/x-python",
   "name": "python",
   "nbconvert_exporter": "python",
   "pygments_lexer": "ipython3",
   "version": "3.12.4"
  }
 },
 "nbformat": 4,
 "nbformat_minor": 5
}
