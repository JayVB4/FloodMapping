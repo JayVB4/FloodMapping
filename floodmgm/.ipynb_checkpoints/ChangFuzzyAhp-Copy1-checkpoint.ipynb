{
 "cells": [
  {
   "cell_type": "code",
   "execution_count": 76,
   "id": "8d2ef12b-a7f7-4111-9c85-4cfb0ebc4e62",
   "metadata": {},
   "outputs": [],
   "source": [
    "import numpy as np\n",
    "import pandas as pd\n",
    "RI = np.array([0,0,0.58,0.90,1.12,1.24,1.32,1.41,1.45,1.49,1.51,1.48,1.56,1.57,1.58])"
   ]
  },
  {
   "cell_type": "code",
   "execution_count": 77,
   "id": "c9592506-6f6c-4805-880e-841bca341528",
   "metadata": {
    "jupyter": {
     "source_hidden": true
    }
   },
   "outputs": [],
   "source": [
    "df =pd.read_csv(\"WesternGhatData/1Elevation.csv\")\n",
    "elevation= df.to_numpy()\n",
    "\n",
    "df =pd.read_csv(\"WesternGhatData/2Slope.csv\")\n",
    "slope= df.to_numpy()\n",
    "\n",
    "df =pd.read_csv(\"WesternGhatData/3DistancefromRiver.csv\")\n",
    "river= df.to_numpy()\n",
    "\n",
    "df =pd.read_csv(\"WesternGhatData/4Drainage.csv\")\n",
    "drainage= df.to_numpy()\n",
    "\n",
    "df =pd.read_csv(\"WesternGhatData/5FlowAccumulation.csv\")\n",
    "flow= df.to_numpy()\n",
    "\n",
    "df =pd.read_csv(\"WesternGhatData/6TWI.csv\")\n",
    "twi= df.to_numpy()\n",
    "\n",
    "df =pd.read_csv(\"WesternGhatData/7Rainfall.csv\")\n",
    "rainfall= df.to_numpy()\n",
    "\n",
    "df =pd.read_csv(\"WesternGhatData/8Landuse.csv\")\n",
    "landuse= df.to_numpy()\n",
    "\n",
    "df =pd.read_csv(\"WesternGhatData/9SoilTexture.csv\")\n",
    "soil= df.to_numpy()\n",
    "\n",
    "df =pd.read_csv(\"WesternGhatData/10TRI.csv\")\n",
    "tri= df.to_numpy()\n",
    "\n",
    "df =pd.read_csv(\"WesternGhatData/11Geology.csv\")\n",
    "geology= df.to_numpy()\n",
    "\n"
   ]
  },
  {
   "cell_type": "code",
   "execution_count": 78,
   "id": "c51e04d5-68bb-45e6-a63a-bc33c6f3284b",
   "metadata": {},
   "outputs": [],
   "source": [
    "data = np.array([[1   ,2   ,2   ,3   ,4   ,5   ,5   ,6   ,7   ,8   ,8],\n",
    "                   [1/2 ,1   ,2   ,3   ,3   ,4   ,5   ,6   ,7   ,8   ,8],\n",
    "                   [1/2 ,1/2 ,1   ,2   ,3   ,4   ,4   ,5   ,6   ,7   ,7],\n",
    "                   [1/3 ,1/3 ,1/2 ,1   ,2   ,3   ,3   ,4   ,5   ,7   ,8],\n",
    "                   [1/4 ,1/3 ,1/3 ,1/2 ,1   ,2   ,2   ,3   ,4   ,5   ,6],\n",
    "                   [1/5 ,1/4 ,1/4 ,1/3 ,1/2 ,1   ,2   ,4   ,5   ,7   ,7],\n",
    "                   [1/5 ,1/5 ,1/4 ,1/3 ,1/2 ,1/2 ,1   ,2   ,3   ,5   ,6],\n",
    "                   [1/6 ,1/6 ,1/5 ,1/4 ,1/3 ,1/4 ,1/2 ,1   ,2   ,4   ,5],\n",
    "                   [1/7 ,1/7 ,1/6 ,1/5 ,1/4 ,1/5 ,1/3 ,1/2 ,1   ,3   ,4],\n",
    "                   [1/8 ,1/8 ,1/7 ,1/7 ,1/5 ,1/7 ,1/5 ,1/4 ,1/3 ,1   ,3],\n",
    "                   [1/8 ,1/8 ,1/7 ,1/8 ,1/6 ,1/7 ,1/6 ,1/5 ,1/4 ,1/3 ,1]]\n",
    "                  )\n",
    "\n",
    "data1 = np.array([[1, 3 , 1/2],\n",
    "                 [1/3 , 1,3 ],\n",
    "                 [2  , 1/3 , 1]])\n",
    "\n",
    "n = data[0].size\n",
    "\n",
    "float_formatter = \"{:.3f}\".format\n",
    "np.set_printoptions(formatter={'float_kind':float_formatter})"
   ]
  },
  {
   "cell_type": "code",
   "execution_count": 79,
   "id": "b580b999-355c-49c4-bf6f-23c7321f706d",
   "metadata": {},
   "outputs": [],
   "source": [
    "#converts normal into fuzzyarray\n",
    "def fuzzify(data):\n",
    "    n = data[0].size\n",
    "    mainarr = np.full((n,n,3),0,dtype=float)\n",
    "    for i in range(0,n):\n",
    "        for j in range(0,n):\n",
    "            if (data[i][j]>=1):\n",
    "                mainarr[i][j][0]= data[i][j] if(data[i][j]==1 or data[i][j]==9) else data[i][j]-1\n",
    "                mainarr[i][j][2]= data[i][j] if(data[i][j]==1 or data[i][j]==9) else data[i][j]+1\n",
    "            else:\n",
    "                for k in range(2,10):\n",
    "                    if (1/k==data[i][j]):\n",
    "                        mainarr[i][j][0]= data[i][j] if(data[i][j]==9) else 1/(k+1)\n",
    "                        mainarr[i][j][2]= data[i][j] if(data[i][j]==9) else 1/(k-1)\n",
    "            mainarr[i][j][1]= data[i][j]\n",
    "    return mainarr"
   ]
  },
  {
   "cell_type": "code",
   "execution_count": 80,
   "id": "4c2a7615-b41d-44ac-887a-ad69e2b25bdb",
   "metadata": {},
   "outputs": [],
   "source": [
    "mainarr = fuzzify(data)\n",
    "geoMean = mainarr.sum(axis=1)\n",
    "fuzzyWeight=np.full((n,3),0,dtype=float)\n",
    "for i in range(0,n):\n",
    "    fuzzyWeight[i] = np.multiply(geoMean[i] , np.reciprocal(np.flip(geoMean.sum(axis=0),0)))\n",
    "# print(fuzzyWeight) = sivalue"
   ]
  },
  {
   "cell_type": "code",
   "execution_count": 83,
   "id": "fe3a74eb-22ef-44f0-87ad-a4d4ec2c17c4",
   "metadata": {},
   "outputs": [
    {
     "name": "stdout",
     "output_type": "stream",
     "text": [
      "[[2.000 1.000 1.000 1.000 1.000 1.000 1.000 1.000 1.000 1.000 1.000]\n",
      " [0.918 2.000 1.000 1.000 1.000 1.000 1.000 1.000 1.000 1.000 1.000]\n",
      " [0.724 0.805 2.000 1.000 1.000 1.000 1.000 1.000 1.000 1.000 1.000]\n",
      " [0.543 0.624 0.825 2.000 1.000 1.000 1.000 1.000 1.000 1.000 1.000]\n",
      " [0.195 0.271 0.474 0.648 2.000 0.875 1.000 1.000 1.000 1.000 1.000]\n",
      " [0.279 0.360 0.572 0.756 1.000 2.000 1.000 1.000 1.000 1.000 1.000]\n",
      " [0.000 0.000 0.196 0.374 0.749 0.601 2.000 1.000 1.000 1.000 1.000]\n",
      " [0.000 0.000 0.000 0.038 0.430 0.252 0.680 2.000 1.000 1.000 1.000]\n",
      " [0.000 0.000 0.000 0.000 0.103 0.000 0.336 0.666 2.000 1.000 1.000]\n",
      " [0.000 0.000 0.000 0.000 0.000 0.000 0.000 0.063 0.407 2.000 1.000]\n",
      " [0.000 0.000 0.000 0.000 0.000 0.000 0.000 0.000 0.000 0.162 2.000]]\n"
     ]
    }
   ],
   "source": [
    "V =np.full((n,n),0,dtype=float)\n",
    "\n",
    "# arr=fuzzyWeight.copy()\n",
    "\n",
    "for i in range(0,n):\n",
    "    arr1 = fuzzyWeight[i]\n",
    "   \n",
    "    for j in range(0,n):\n",
    "        arr2=fuzzyWeight[j]\n",
    "        if(i==j):\n",
    "            V[i][j]=2\n",
    "        elif arr1[1]>=arr2[1]:\n",
    "            V[i][j]=1\n",
    "        elif arr2[0]>=arr1[2]:\n",
    "            V[i][j]=0\n",
    "        else:\n",
    "            V[i][j]=(arr2[0]-arr1[2])/((arr1[1]-arr1[2])-(arr2[1]-arr2[0]))\n",
    "print(V)"
   ]
  },
  {
   "cell_type": "code",
   "execution_count": 82,
   "id": "86bcc4c8-a63b-4154-a03e-5aab54b48621",
   "metadata": {},
   "outputs": [
    {
     "name": "stdout",
     "output_type": "stream",
     "text": [
      "[0.273 0.251 0.198 0.148 0.053 0.076 0.000 0.000 0.000 0.000 0.000]\n"
     ]
    }
   ],
   "source": [
    "\n",
    "\n",
    "nonFuzzyWeights = np.divide(V.min(axis=1),V.min(axis=1).sum(axis=0))\n",
    "print(nonFuzzyWeights)\n"
   ]
  },
  {
   "cell_type": "code",
   "execution_count": null,
   "id": "43670c66-1dd5-413b-9e31-a2cf09052db6",
   "metadata": {},
   "outputs": [],
   "source": []
  },
  {
   "cell_type": "code",
   "execution_count": null,
   "id": "18557de4-3c34-451f-8508-1783f9aa5beb",
   "metadata": {},
   "outputs": [],
   "source": []
  },
  {
   "cell_type": "code",
   "execution_count": null,
   "id": "6a361183-f76c-4a33-a0b5-e19da192edb4",
   "metadata": {},
   "outputs": [],
   "source": []
  },
  {
   "cell_type": "code",
   "execution_count": null,
   "id": "e25b1e1b-b44d-443e-8e99-52bcbd28655f",
   "metadata": {},
   "outputs": [],
   "source": []
  },
  {
   "cell_type": "code",
   "execution_count": null,
   "id": "59dc8136-052c-483b-9498-47d9ae2b11d7",
   "metadata": {},
   "outputs": [],
   "source": []
  },
  {
   "cell_type": "code",
   "execution_count": null,
   "id": "87b3ec30-8446-4cbe-8be6-24b5dfb1e0d3",
   "metadata": {},
   "outputs": [],
   "source": []
  }
 ],
 "metadata": {
  "kernelspec": {
   "display_name": "Python 3 (ipykernel)",
   "language": "python",
   "name": "python3"
  },
  "language_info": {
   "codemirror_mode": {
    "name": "ipython",
    "version": 3
   },
   "file_extension": ".py",
   "mimetype": "text/x-python",
   "name": "python",
   "nbconvert_exporter": "python",
   "pygments_lexer": "ipython3",
   "version": "3.12.4"
  }
 },
 "nbformat": 4,
 "nbformat_minor": 5
}
